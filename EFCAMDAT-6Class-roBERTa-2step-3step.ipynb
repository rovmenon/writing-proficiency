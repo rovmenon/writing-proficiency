{
 "cells": [
  {
   "cell_type": "markdown",
   "id": "95e423b3-1d4a-46f4-ae16-954f6b389f81",
   "metadata": {},
   "source": [
    "# EFCamDat 6 Class 2 & 3 step RoBERTa Models"
   ]
  },
  {
   "cell_type": "markdown",
   "id": "4e53724a-c56b-4b09-978d-10f02d6eaf15",
   "metadata": {},
   "source": [
    "### NOTE:\n",
    "This notebook uses the wrong version of the EFCAMDAT dataset. It utilizes the annotated version which contains error codes embedded in the text for things like word choice, punctuation, etc. These error codes likely result in the model easily classifying the category based on statistics."
   ]
  },
  {
   "cell_type": "code",
   "execution_count": 1,
   "id": "e4557a86-c90d-4c18-bcee-668518f7a5cd",
   "metadata": {},
   "outputs": [],
   "source": [
    "from collections import Counter\n",
    "import numpy as np\n",
    "import pandas as pd\n",
    "import tensorflow as tf\n",
    "from tensorflow import keras\n",
    "\n",
    "# import seaborn as sns\n",
    "# import matplotlib.pyplot as plt\n",
    "from sklearn.model_selection import train_test_split\n",
    "from sklearn.metrics import classification_report"
   ]
  },
  {
   "cell_type": "code",
   "execution_count": 2,
   "id": "979e2805-4a21-4312-93d4-252e235ab4f2",
   "metadata": {},
   "outputs": [],
   "source": [
    "from transformers import RobertaTokenizer, TFRobertaModel"
   ]
  },
  {
   "cell_type": "code",
   "execution_count": 3,
   "id": "51ea467b-8534-401f-9157-86b909b597ff",
   "metadata": {},
   "outputs": [],
   "source": [
    "train_df = pd.read_csv(\"../efcamdat_train_data.csv\")\n",
    "valid_df = pd.read_csv(\"../efcamdat_valid_data.csv\")\n",
    "test_df = pd.read_csv(\"../efcamdat_test_data.csv\")"
   ]
  },
  {
   "cell_type": "code",
   "execution_count": 4,
   "id": "3063d277-9b9e-4ee1-a9f4-49fbde6c2fab",
   "metadata": {},
   "outputs": [],
   "source": [
    "valid_texts = valid_df['text']\n",
    "valid_labels = valid_df['labels']\n",
    "train_texts = train_df['text_clipped']\n",
    "train_labels = train_df['labels']\n",
    "test_texts = test_df['text']\n",
    "test_labels = test_df['labels']"
   ]
  },
  {
   "cell_type": "code",
   "execution_count": 5,
   "id": "fd866f8f-e5a1-42c4-9de7-e96c6a4181c3",
   "metadata": {},
   "outputs": [],
   "source": [
    "max_length = 85"
   ]
  },
  {
   "cell_type": "code",
   "execution_count": 6,
   "id": "fd2c521a-af41-4376-a7b4-a88819341b52",
   "metadata": {},
   "outputs": [
    {
     "name": "stderr",
     "output_type": "stream",
     "text": [
      "Some weights of the PyTorch model were not used when initializing the TF 2.0 model TFRobertaModel: ['lm_head.bias', 'lm_head.layer_norm.bias', 'lm_head.layer_norm.weight', 'lm_head.dense.bias', 'roberta.embeddings.position_ids', 'lm_head.dense.weight']\n",
      "- This IS expected if you are initializing TFRobertaModel from a PyTorch model trained on another task or with another architecture (e.g. initializing a TFBertForSequenceClassification model from a BertForPreTraining model).\n",
      "- This IS NOT expected if you are initializing TFRobertaModel from a PyTorch model that you expect to be exactly identical (e.g. initializing a TFBertForSequenceClassification model from a BertForSequenceClassification model).\n",
      "Some weights or buffers of the TF 2.0 model TFRobertaModel were not initialized from the PyTorch model and are newly initialized: ['roberta.pooler.dense.weight', 'roberta.pooler.dense.bias']\n",
      "You should probably TRAIN this model on a down-stream task to be able to use it for predictions and inference.\n"
     ]
    }
   ],
   "source": [
    "rtokenizer = RobertaTokenizer.from_pretrained('roberta-base')\n",
    "roberta_model = TFRobertaModel.from_pretrained('roberta-base')"
   ]
  },
  {
   "cell_type": "code",
   "execution_count": 7,
   "id": "a4b03060-abd3-4c4b-928d-1b340e8251b0",
   "metadata": {},
   "outputs": [],
   "source": [
    "train_encodings = rtokenizer(list(train_texts), truncation=True, padding=True, max_length=max_length, return_tensors='tf')\n",
    "valid_encodings = rtokenizer(list(valid_texts), truncation=True, padding=True, max_length=max_length, return_tensors='tf')"
   ]
  },
  {
   "cell_type": "code",
   "execution_count": 8,
   "id": "a369d6b2-fd83-44ba-97e1-307c2c2cb90b",
   "metadata": {},
   "outputs": [],
   "source": [
    "def create_roberta_cl_model(model,\n",
    "                         num_classes = 6,\n",
    "                         dropout=0.3,\n",
    "                         learning_rate=0.0001):\n",
    "    \"\"\"\n",
    "    \"\"\"\n",
    "    model.trainable = False\n",
    "\n",
    "    #tf.keras.mixed_precision.set_global_policy('mixed_float16')\n",
    "\n",
    "    input_ids = tf.keras.layers.Input(shape=(None,), dtype=tf.int64, name='input_ids_layer')\n",
    "    #token_type_ids = tf.keras.layers.Input(shape=(300,), dtype=tf.int32, name='token_type_ids_layer')\n",
    "    attention_mask = tf.keras.layers.Input(shape=(None,), dtype=tf.int64, name='attention_mask_layer')\n",
    "\n",
    "    model_inputs = [input_ids, attention_mask]\n",
    "    model_out = model(input_ids=input_ids, attention_mask=attention_mask)\n",
    "\n",
    "    model_out = model_out.last_hidden_state\n",
    "\n",
    "    conv = tf.keras.layers.Conv1D(filters=256, kernel_size=3, activation='relu')(model_out)\n",
    "    conv = tf.keras.layers.MaxPooling1D(pool_size=2)(conv)\n",
    "    conv = tf.keras.layers.Dropout(dropout)(conv)\n",
    "    lstm = tf.keras.layers.LSTM(units=256, return_sequences=False, return_state=False)(conv)\n",
    "    lstm = tf.keras.layers.Dropout(dropout)(lstm)\n",
    "    # dense = tf.keras.layers.Dense(256, activation='relu')(lstm)\n",
    "\n",
    "    classification = tf.keras.layers.Dense(num_classes, activation='softmax',name='classification_layer')(lstm)\n",
    "\n",
    "    classification_model = tf.keras.Model(inputs=[input_ids, attention_mask], outputs=[classification])\n",
    "\n",
    "    optimizer = tf.keras.optimizers.Adam(learning_rate=learning_rate, clipnorm=0.1)\n",
    "    optimizer = tf.keras.mixed_precision.LossScaleOptimizer(optimizer)\n",
    "\n",
    "    classification_model.compile(optimizer=optimizer,\n",
    "                                 loss=tf.keras.losses.SparseCategoricalCrossentropy(from_logits=False),\n",
    "                                 metrics='accuracy')\n",
    "\n",
    "    return classification_model"
   ]
  },
  {
   "cell_type": "code",
   "execution_count": 9,
   "id": "61422bad-7c5d-45d4-8f23-9f7615e96d67",
   "metadata": {},
   "outputs": [],
   "source": [
    "def create_roberta_gru_model(model,\n",
    "                         num_classes = 6,\n",
    "                         dropout=0.3,\n",
    "                         learning_rate=0.0001):\n",
    "    \"\"\"\n",
    "    \"\"\"\n",
    "    model.trainable = False\n",
    "\n",
    "    tf.keras.mixed_precision.set_global_policy('mixed_float16')\n",
    "\n",
    "    input_ids = tf.keras.layers.Input(shape=(None,), dtype=tf.int64, name='input_ids_layer')\n",
    "    #token_type_ids = tf.keras.layers.Input(shape=(300,), dtype=tf.int32, name='token_type_ids_layer')\n",
    "    attention_mask = tf.keras.layers.Input(shape=(None,), dtype=tf.int64, name='attention_mask_layer')\n",
    "\n",
    "    model_inputs = [input_ids, attention_mask]\n",
    "    model_out = model(input_ids=input_ids, attention_mask=attention_mask)\n",
    "\n",
    "    model_out = model_out.last_hidden_state\n",
    "\n",
    "    conv = tf.keras.layers.Conv1D(filters=256, kernel_size=3, activation='relu')(model_out)\n",
    "    conv = tf.keras.layers.MaxPooling1D(pool_size=2)(conv)\n",
    "    conv = tf.keras.layers.Dropout(dropout)(conv)\n",
    "    gru = tf.keras.layers.GRU(256)(conv)\n",
    "\n",
    "    classification = tf.keras.layers.Dense(num_classes, activation='softmax',name='classification_layer')(gru)\n",
    "\n",
    "    classification_model = tf.keras.Model(inputs=[input_ids, attention_mask], outputs=[classification])\n",
    "\n",
    "    optimizer = tf.keras.optimizers.Adam(learning_rate=learning_rate, clipnorm=0.1)\n",
    "    optimizer = tf.keras.mixed_precision.LossScaleOptimizer(optimizer)\n",
    "\n",
    "    classification_model.compile(optimizer=optimizer,\n",
    "                                 loss=tf.keras.losses.SparseCategoricalCrossentropy(from_logits=False),\n",
    "                                 metrics='accuracy')\n",
    "\n",
    "    return classification_model"
   ]
  },
  {
   "cell_type": "markdown",
   "id": "d3304008-7b5b-452d-b1cd-9c4526e79b9d",
   "metadata": {},
   "source": [
    "## 3->6 Class Model"
   ]
  },
  {
   "cell_type": "code",
   "execution_count": 10,
   "id": "a00833d0-8f27-4fae-957a-ada6db9d407e",
   "metadata": {},
   "outputs": [],
   "source": [
    "train_labels_group = train_labels.copy()\n",
    "train_labels_group[train_labels_group == 1] = 0\n",
    "train_labels_group[(train_labels_group == 2) | (train_labels_group == 3)] = 1\n",
    "train_labels_group[(train_labels_group == 4) | (train_labels_group == 5)] = 2\n",
    "\n",
    "valid_labels_group = valid_labels.copy()\n",
    "valid_labels_group[valid_labels_group == 1] = 0\n",
    "valid_labels_group[(valid_labels_group == 2) | (valid_labels_group == 3)] = 1\n",
    "valid_labels_group[(valid_labels_group == 4) | (valid_labels_group == 5)] = 2\n",
    "\n",
    "test_labels_group = test_labels.copy()\n",
    "test_labels_group[test_labels_group == 1] = 0\n",
    "test_labels_group[(test_labels_group == 2) | (test_labels_group == 3)] = 1\n",
    "test_labels_group[(test_labels_group == 4) | (test_labels_group == 5)] = 2"
   ]
  },
  {
   "cell_type": "code",
   "execution_count": 11,
   "id": "6e2e4796-79e9-4413-8076-b27d48c07d4c",
   "metadata": {},
   "outputs": [
    {
     "name": "stdout",
     "output_type": "stream",
     "text": [
      "INFO:tensorflow:Mixed precision compatibility check (mixed_float16): OK\n",
      "Your GPU will likely run quickly with dtype policy mixed_float16 as it has compute capability of at least 7.0. Your GPU: NVIDIA GeForce RTX 3060 Ti, compute capability 8.6\n"
     ]
    }
   ],
   "source": [
    "roberta_model_grouped = create_roberta_gru_model(model=roberta_model, num_classes=3)"
   ]
  },
  {
   "cell_type": "code",
   "execution_count": 12,
   "id": "2da674d2-0fb2-4ccf-9a57-d80410a774e3",
   "metadata": {},
   "outputs": [],
   "source": [
    "dataset = tf.data.Dataset.from_tensor_slices(({\"input_ids_layer\": train_encodings.input_ids, \"attention_mask_layer\": train_encodings.attention_mask}, train_labels_group))\n",
    "dataset = dataset.batch(32).prefetch(tf.data.experimental.AUTOTUNE)\n",
    "\n",
    "vdataset = tf.data.Dataset.from_tensor_slices(({\"input_ids_layer\": valid_encodings.input_ids, \"attention_mask_layer\": valid_encodings.attention_mask}, valid_labels_group))\n",
    "vdataset = vdataset.batch(32).prefetch(tf.data.experimental.AUTOTUNE)"
   ]
  },
  {
   "cell_type": "code",
   "execution_count": 13,
   "id": "19784adc-b169-4cc0-a64a-37e228264220",
   "metadata": {},
   "outputs": [
    {
     "name": "stdout",
     "output_type": "stream",
     "text": [
      "Epoch 1/2\n",
      "9568/9568 [==============================] - 1246s 128ms/step - loss: 0.2416 - accuracy: 0.9108 - val_loss: 0.1276 - val_accuracy: 0.9561\n",
      "Epoch 2/2\n",
      "9568/9568 [==============================] - 1210s 126ms/step - loss: 0.1449 - accuracy: 0.9490 - val_loss: 0.1055 - val_accuracy: 0.9646\n"
     ]
    }
   ],
   "source": [
    "roberta_grouped_history = roberta_model_grouped.fit(dataset,\n",
    "                                      validation_data=vdataset,\n",
    "                                      epochs=2)"
   ]
  },
  {
   "cell_type": "code",
   "execution_count": 14,
   "id": "20e182eb-8960-4c63-a14d-0f41218f1ec6",
   "metadata": {},
   "outputs": [],
   "source": [
    "test_encodings = rtokenizer(list(test_texts), truncation=True, padding=True, max_length=max_length, return_tensors='tf')"
   ]
  },
  {
   "cell_type": "code",
   "execution_count": 15,
   "id": "e7f4c0f8-8626-49a1-95a3-54b3f87501c6",
   "metadata": {},
   "outputs": [],
   "source": [
    "tdataset = tf.data.Dataset.from_tensor_slices(({\"input_ids_layer\": test_encodings.input_ids, \"attention_mask_layer\": test_encodings.attention_mask}, test_labels_group))\n",
    "tdataset = tdataset.batch(32).prefetch(tf.data.experimental.AUTOTUNE)"
   ]
  },
  {
   "cell_type": "code",
   "execution_count": 16,
   "id": "d3c5b39f-933e-4c44-9c3c-81dbdcfed6ec",
   "metadata": {},
   "outputs": [
    {
     "name": "stdout",
     "output_type": "stream",
     "text": [
      "32/32 [==============================] - 3s 97ms/step - loss: 0.1115 - accuracy: 0.9670\n"
     ]
    },
    {
     "data": {
      "text/plain": [
       "[0.1115269809961319, 0.9670000076293945]"
      ]
     },
     "execution_count": 16,
     "metadata": {},
     "output_type": "execute_result"
    }
   ],
   "source": [
    "roberta_model_grouped.evaluate(tdataset)"
   ]
  },
  {
   "cell_type": "code",
   "execution_count": 17,
   "id": "fb1a727d-ba66-4535-a383-f793c4ba20c4",
   "metadata": {},
   "outputs": [
    {
     "name": "stdout",
     "output_type": "stream",
     "text": [
      "32/32 [==============================] - 6s 100ms/step\n"
     ]
    }
   ],
   "source": [
    "preds = roberta_model_grouped.predict(tdataset)\n",
    "preds = tf.argmax(preds, axis=-1)"
   ]
  },
  {
   "cell_type": "code",
   "execution_count": 18,
   "id": "5e669e57-9644-49f6-b779-22ea8f68a023",
   "metadata": {},
   "outputs": [],
   "source": [
    "cm = tf.math.confusion_matrix(test_labels_group, preds)\n",
    "cm = cm/cm.numpy().sum(axis=1)[:, tf.newaxis]"
   ]
  },
  {
   "cell_type": "code",
   "execution_count": 19,
   "id": "9118541a-703a-4207-9ca5-7e15ceb28b9d",
   "metadata": {},
   "outputs": [
    {
     "data": {
      "text/plain": [
       "Text(220.72222222222223, 0.5, 'True')"
      ]
     },
     "execution_count": 19,
     "metadata": {},
     "output_type": "execute_result"
    },
    {
     "data": {
      "image/png": "[encoded data removed]",
      "text/plain": [
       "<Figure size 2000x700 with 2 Axes>"
      ]
     },
     "metadata": {},
     "output_type": "display_data"
    }
   ],
   "source": [
    "import matplotlib.pyplot as plt\n",
    "import seaborn as sns\n",
    "\n",
    "plt.figure(figsize=(20,7))\n",
    "sns.heatmap(\n",
    "    cm, annot=True)\n",
    "plt.xlabel(\"Predicted\")\n",
    "plt.ylabel(\"True\")"
   ]
  },
  {
   "cell_type": "markdown",
   "id": "def30777-857a-4741-8180-b67eff2c3eaf",
   "metadata": {},
   "source": [
    "### Discriminate betweeen A1/A2, B1/B2, C1/C2"
   ]
  },
  {
   "cell_type": "code",
   "execution_count": 20,
   "id": "2ea2a363-0db7-4583-bd4d-42efe5a2e480",
   "metadata": {},
   "outputs": [],
   "source": [
    "#A\n",
    "A_train_mask = tf.equal(train_labels_group, 0)\n",
    "A_train_encodings = {\"input_ids\": tf.boolean_mask(train_encodings['input_ids'], A_train_mask),\n",
    "                     \"attention_mask\": tf.boolean_mask(train_encodings['attention_mask'], A_train_mask)}\n",
    "A_train_labels =  tf.boolean_mask(train_labels.copy(), A_train_mask)\n",
    "A_dataset = tf.data.Dataset.from_tensor_slices(({\"input_ids_layer\": A_train_encodings['input_ids'], \"attention_mask_layer\": A_train_encodings['attention_mask']}, A_train_labels))\n",
    "A_dataset = A_dataset.batch(32).prefetch(tf.data.experimental.AUTOTUNE)\n",
    "\n",
    "A_valid_mask = tf.equal(valid_labels_group, 0)\n",
    "A_valid_encodings = {\"input_ids\": tf.boolean_mask(valid_encodings['input_ids'], A_valid_mask),\n",
    "                     \"attention_mask\": tf.boolean_mask(valid_encodings['attention_mask'], A_valid_mask)}\n",
    "A_valid_labels =  tf.boolean_mask(valid_labels.copy(), A_valid_mask)\n",
    "A_vdataset = tf.data.Dataset.from_tensor_slices(({\"input_ids_layer\": A_valid_encodings['input_ids'], \"attention_mask_layer\": A_valid_encodings['attention_mask']}, A_valid_labels))\n",
    "A_vdataset = A_vdataset.batch(32).prefetch(tf.data.experimental.AUTOTUNE)\n",
    "\n",
    "A_test_mask = tf.equal(test_labels_group, 0)\n",
    "A_test_encodings = {\"input_ids\": tf.boolean_mask(test_encodings['input_ids'], A_test_mask),\n",
    "                     \"attention_mask\": tf.boolean_mask(test_encodings['attention_mask'], A_test_mask)}\n",
    "A_test_labels =  tf.boolean_mask(test_labels.copy(), A_test_mask)\n",
    "A_tdataset = tf.data.Dataset.from_tensor_slices(({\"input_ids_layer\": A_test_encodings['input_ids'], \"attention_mask_layer\": A_test_encodings['attention_mask']}, A_test_labels))\n",
    "A_tdataset = A_tdataset.batch(32).prefetch(tf.data.experimental.AUTOTUNE)"
   ]
  },
  {
   "cell_type": "code",
   "execution_count": 21,
   "id": "4a10abf8-f291-485e-805c-776902335f73",
   "metadata": {},
   "outputs": [],
   "source": [
    "A_model = create_roberta_gru_model(model=roberta_model, num_classes=2)"
   ]
  },
  {
   "cell_type": "code",
   "execution_count": 22,
   "id": "cce14154-2592-4ea6-8453-e2d0d1dc891e",
   "metadata": {},
   "outputs": [
    {
     "name": "stdout",
     "output_type": "stream",
     "text": [
      "5066/5066 [==============================] - 663s 128ms/step - loss: 0.1863 - accuracy: 0.9279 - val_loss: 0.1091 - val_accuracy: 0.9631\n"
     ]
    }
   ],
   "source": [
    "A_model_history = A_model.fit(A_dataset,\n",
    "                            validation_data=A_vdataset,\n",
    "                            epochs=1)"
   ]
  },
  {
   "cell_type": "code",
   "execution_count": 23,
   "id": "bc321f06-6386-4652-8a6f-fa5566a1c78b",
   "metadata": {},
   "outputs": [],
   "source": [
    "#B\n",
    "B_train_mask = tf.equal(train_labels_group, 1)\n",
    "B_train_encodings = {\"input_ids\": tf.boolean_mask(train_encodings['input_ids'], B_train_mask),\n",
    "                     \"attention_mask\": tf.boolean_mask(train_encodings['attention_mask'], B_train_mask)}\n",
    "B_train_labels =  tf.boolean_mask(train_labels.copy(), B_train_mask) - 2\n",
    "B_dataset = tf.data.Dataset.from_tensor_slices(({\"input_ids_layer\": B_train_encodings['input_ids'], \"attention_mask_layer\": B_train_encodings['attention_mask']}, B_train_labels))\n",
    "B_dataset = B_dataset.batch(32).prefetch(tf.data.experimental.AUTOTUNE)\n",
    "\n",
    "B_valid_mask = tf.equal(valid_labels_group, 1)\n",
    "B_valid_encodings = {\"input_ids\": tf.boolean_mask(valid_encodings['input_ids'], B_valid_mask),\n",
    "                     \"attention_mask\": tf.boolean_mask(valid_encodings['attention_mask'], B_valid_mask)}\n",
    "B_valid_labels =  tf.boolean_mask(valid_labels.copy(), B_valid_mask) - 2\n",
    "B_vdataset = tf.data.Dataset.from_tensor_slices(({\"input_ids_layer\": B_valid_encodings['input_ids'], \"attention_mask_layer\": B_valid_encodings['attention_mask']}, B_valid_labels))\n",
    "B_vdataset = B_vdataset.batch(32).prefetch(tf.data.experimental.AUTOTUNE)\n",
    "\n",
    "B_test_mask = tf.equal(test_labels_group, 1)\n",
    "B_test_encodings = {\"input_ids\": tf.boolean_mask(test_encodings['input_ids'], B_test_mask),\n",
    "                     \"attention_mask\": tf.boolean_mask(test_encodings['attention_mask'], B_test_mask)}\n",
    "B_test_labels =  tf.boolean_mask(test_labels.copy(), B_test_mask) - 2\n",
    "B_tdataset = tf.data.Dataset.from_tensor_slices(({\"input_ids_layer\": B_test_encodings['input_ids'], \"attention_mask_layer\": B_test_encodings['attention_mask']}, B_test_labels))\n",
    "B_tdataset = B_tdataset.batch(32).prefetch(tf.data.experimental.AUTOTUNE)"
   ]
  },
  {
   "cell_type": "code",
   "execution_count": 24,
   "id": "24fdf31b-68c1-437f-be47-ac209309a274",
   "metadata": {},
   "outputs": [],
   "source": [
    "B_model = create_roberta_gru_model(model=roberta_model, num_classes=2)"
   ]
  },
  {
   "cell_type": "code",
   "execution_count": 25,
   "id": "17dfd057-7779-4673-90f9-7535b5953ed6",
   "metadata": {},
   "outputs": [
    {
     "name": "stdout",
     "output_type": "stream",
     "text": [
      "4081/4081 [==============================] - 530s 127ms/step - loss: 0.2886 - accuracy: 0.8741 - val_loss: 0.1733 - val_accuracy: 0.9306\n"
     ]
    }
   ],
   "source": [
    "B_model_history = B_model.fit(B_dataset,\n",
    "                              validation_data=B_vdataset,\n",
    "                              epochs=1)"
   ]
  },
  {
   "cell_type": "code",
   "execution_count": null,
   "id": "e385dad7-b103-4275-b9e4-7ae13e4d600e",
   "metadata": {},
   "outputs": [],
   "source": [
    "#C\n",
    "C_train_mask = tf.equal(train_labels_group, 2)\n",
    "C_train_encodings = {\"input_ids\": tf.boolean_mask(train_encodings['input_ids'], C_train_mask),\n",
    "                     \"attention_mask\": tf.boolean_mask(train_encodings['attention_mask'], C_train_mask)}\n",
    "C_train_labels =  tf.boolean_mask(train_labels.copy(), C_train_mask) - 4\n",
    "C_dataset = tf.data.Dataset.from_tensor_slices(({\"input_ids_layer\": C_train_encodings['input_ids'], \"attention_mask_layer\": C_train_encodings['attention_mask']}, C_train_labels))\n",
    "C_dataset = C_dataset.batch(32).prefetch(tf.data.experimental.AUTOTUNE)\n",
    "\n",
    "C_valid_mask = tf.equal(valid_labels_group, 2)\n",
    "C_valid_encodings = {\"input_ids\": tf.boolean_mask(valid_encodings['input_ids'], C_valid_mask),\n",
    "                     \"attention_mask\": tf.boolean_mask(valid_encodings['attention_mask'], C_valid_mask)}\n",
    "C_valid_labels =  tf.boolean_mask(valid_labels.copy(), C_valid_mask) - 4\n",
    "C_vdataset = tf.data.Dataset.from_tensor_slices(({\"input_ids_layer\": C_valid_encodings['input_ids'], \"attention_mask_layer\": C_valid_encodings['attention_mask']}, C_valid_labels))\n",
    "C_vdataset = C_vdataset.batch(32).prefetch(tf.data.experimental.AUTOTUNE)\n",
    "\n",
    "C_test_mask = tf.equal(test_labels_group, 2)\n",
    "C_test_encodings = {\"input_ids\": tf.boolean_mask(test_encodings['input_ids'], C_test_mask),\n",
    "                     \"attention_mask\": tf.boolean_mask(test_encodings['attention_mask'], C_test_mask)}\n",
    "C_test_labels =  tf.boolean_mask(test_labels.copy(), C_test_mask) - 4\n",
    "C_tdataset = tf.data.Dataset.from_tensor_slices(({\"input_ids_layer\": C_test_encodings['input_ids'], \"attention_mask_layer\": C_test_encodings['attention_mask']}, C_test_labels))\n",
    "C_tdataset = C_tdataset.batch(32).prefetch(tf.data.experimental.AUTOTUNE)"
   ]
  },
  {
   "cell_type": "code",
   "execution_count": null,
   "id": "a4bdc3ba-dded-4132-83ea-099d5446bfe8",
   "metadata": {},
   "outputs": [],
   "source": [
    "C_model = create_roberta_gru_model(model=roberta_model, num_classes=2)"
   ]
  },
  {
   "cell_type": "code",
   "execution_count": null,
   "id": "ea7920c6-093f-4906-8ced-1d0c00de8278",
   "metadata": {},
   "outputs": [],
   "source": [
    "C_model_history = C_model.fit(C_dataset,\n",
    "                              validation_data=C_vdataset,\n",
    "                              epochs=1)"
   ]
  },
  {
   "cell_type": "markdown",
   "id": "d20cc346-e01c-4e41-8c12-bb7680dd8d2c",
   "metadata": {},
   "source": [
    "### Combine"
   ]
  },
  {
   "cell_type": "code",
   "execution_count": 29,
   "id": "c0d80e33-ff63-4d40-ad91-6f95d3a9d6f3",
   "metadata": {},
   "outputs": [
    {
     "name": "stdout",
     "output_type": "stream",
     "text": [
      "18/18 [==============================] - 4s 85ms/step\n",
      "14/14 [==============================] - 4s 87ms/step\n",
      "1/1 [==============================] - 2s 2s/step\n"
     ]
    }
   ],
   "source": [
    "a_pred_mask = tf.equal(preds, 0)\n",
    "b_pred_mask = tf.equal(preds, 1)\n",
    "c_pred_mask = tf.equal(preds, 2)\n",
    "\n",
    "a_test_encodings = {\"input_ids\": tf.boolean_mask(test_encodings['input_ids'], a_pred_mask),\n",
    "                     \"attention_mask\": tf.boolean_mask(test_encodings['attention_mask'], a_pred_mask)}\n",
    "a_preds = A_model.predict([a_test_encodings['input_ids'], a_test_encodings[\"attention_mask\"]])\n",
    "a_preds = tf.argmax(a_preds, axis=-1)\n",
    "a_preds = a_preds.numpy() \n",
    "\n",
    "b_test_encodings = {\"input_ids\": tf.boolean_mask(test_encodings['input_ids'], b_pred_mask),\n",
    "                     \"attention_mask\": tf.boolean_mask(test_encodings['attention_mask'], b_pred_mask)}\n",
    "b_preds = B_model.predict([b_test_encodings['input_ids'], b_test_encodings[\"attention_mask\"]])\n",
    "b_preds = tf.argmax(b_preds, axis=-1)\n",
    "b_preds = b_preds.numpy() + 2\n",
    "\n",
    "c_test_encodings = {\"input_ids\": tf.boolean_mask(test_encodings['input_ids'], c_pred_mask),\n",
    "                     \"attention_mask\": tf.boolean_mask(test_encodings['attention_mask'], c_pred_mask)}\n",
    "c_preds = C_model.predict([c_test_encodings['input_ids'], c_test_encodings[\"attention_mask\"]])\n",
    "c_preds = tf.argmax(c_preds, axis=-1)\n",
    "c_preds = c_preds.numpy() + 4\n",
    "\n",
    "\n",
    "predictions_comb = preds.numpy()\n",
    "predictions_comb[a_pred_mask] = a_preds\n",
    "predictions_comb[b_pred_mask] = b_preds\n",
    "predictions_comb[c_pred_mask] = c_preds"
   ]
  },
  {
   "cell_type": "code",
   "execution_count": 30,
   "id": "3513ccac-b489-4421-9970-876c62b198e9",
   "metadata": {},
   "outputs": [],
   "source": [
    "cm = tf.math.confusion_matrix(test_labels, predictions_comb)\n",
    "cm = cm/cm.numpy().sum(axis=1)[:, tf.newaxis]"
   ]
  },
  {
   "cell_type": "code",
   "execution_count": 31,
   "id": "8d2d6249-e10c-4f6b-8dc2-2125a2b6c827",
   "metadata": {},
   "outputs": [
    {
     "data": {
      "text/plain": [
       "Text(220.72222222222223, 0.5, 'True')"
      ]
     },
     "execution_count": 31,
     "metadata": {},
     "output_type": "execute_result"
    },
    {
     "data": {
      "image/png": "[encoded data removed]",
      "text/plain": [
       "<Figure size 2000x700 with 2 Axes>"
      ]
     },
     "metadata": {},
     "output_type": "display_data"
    }
   ],
   "source": [
    "plt.figure(figsize=(20,7))\n",
    "sns.heatmap(\n",
    "    cm, annot=True)\n",
    "plt.xlabel(\"Predicted\")\n",
    "plt.ylabel(\"True\")"
   ]
  },
  {
   "cell_type": "code",
   "execution_count": 32,
   "id": "705ba94d-1df3-471b-8a23-9ecad0aae95d",
   "metadata": {},
   "outputs": [
    {
     "name": "stdout",
     "output_type": "stream",
     "text": [
      "              precision    recall  f1-score   support\n",
      "\n",
      "           0       0.93      0.98      0.96       291\n",
      "           1       0.98      0.88      0.93       268\n",
      "           2       0.92      0.86      0.88       256\n",
      "           3       0.76      0.95      0.84       145\n",
      "           4       0.85      0.71      0.77        31\n",
      "           5       0.67      0.44      0.53         9\n",
      "\n",
      "    accuracy                           0.91      1000\n",
      "   macro avg       0.85      0.80      0.82      1000\n",
      "weighted avg       0.91      0.91      0.90      1000\n",
      "\n"
     ]
    }
   ],
   "source": [
    "print(classification_report(test_labels, predictions_comb))"
   ]
  },
  {
   "cell_type": "markdown",
   "id": "218c5c74-294f-4f7a-9cda-cdd57a864ada",
   "metadata": {},
   "source": [
    "## Multi-Step Model"
   ]
  },
  {
   "cell_type": "markdown",
   "id": "f6781d05-7f23-4309-9662-91b7cd53edd9",
   "metadata": {},
   "source": [
    "### Step 1"
   ]
  },
  {
   "cell_type": "code",
   "execution_count": 33,
   "id": "9e379ea5-8e95-4f15-8ca4-67729d519033",
   "metadata": {},
   "outputs": [],
   "source": [
    "s1_train_labels = train_labels.copy()\n",
    "s1_train_labels[(s1_train_labels == 5) | (s1_train_labels == 4)] = 3\n",
    "\n",
    "s1_valid_labels = valid_labels.copy()\n",
    "s1_valid_labels[(s1_valid_labels == 5) | (s1_valid_labels == 4)] = 3\n",
    "\n",
    "s1_test_labels = test_labels.copy()\n",
    "s1_test_labels[(s1_test_labels == 5) | (s1_test_labels == 4)] = 3"
   ]
  },
  {
   "cell_type": "code",
   "execution_count": 34,
   "id": "f38a0e83-2086-4ea4-bee4-4cb82f9bc5c6",
   "metadata": {},
   "outputs": [],
   "source": [
    "s1_roberta_model = create_roberta_cl_model(model=roberta_model, num_classes=4)"
   ]
  },
  {
   "cell_type": "code",
   "execution_count": 35,
   "id": "a24ab8c2-327b-4055-9acd-d3c80699b0cb",
   "metadata": {},
   "outputs": [],
   "source": [
    "dataset = tf.data.Dataset.from_tensor_slices(({\"input_ids_layer\": train_encodings.input_ids, \"attention_mask_layer\": train_encodings.attention_mask}, s1_train_labels))\n",
    "dataset = dataset.batch(32).prefetch(tf.data.experimental.AUTOTUNE)\n",
    "\n",
    "vdataset = tf.data.Dataset.from_tensor_slices(({\"input_ids_layer\": valid_encodings.input_ids, \"attention_mask_layer\": valid_encodings.attention_mask}, s1_valid_labels))\n",
    "vdataset = vdataset.batch(32).prefetch(tf.data.experimental.AUTOTUNE)"
   ]
  },
  {
   "cell_type": "code",
   "execution_count": 36,
   "id": "260d2161-5eb6-4b9b-98eb-95eba63c1a84",
   "metadata": {},
   "outputs": [
    {
     "name": "stdout",
     "output_type": "stream",
     "text": [
      "Epoch 1/2\n",
      "9568/9568 [==============================] - 1101s 114ms/step - loss: 0.3805 - accuracy: 0.8555 - val_loss: 0.2243 - val_accuracy: 0.9180\n",
      "Epoch 2/2\n",
      "9568/9568 [==============================] - 1144s 120ms/step - loss: 0.2274 - accuracy: 0.9175 - val_loss: 0.1584 - val_accuracy: 0.9475\n"
     ]
    }
   ],
   "source": [
    "s1_roberta_history = s1_roberta_model.fit(dataset,\n",
    "                                      validation_data=vdataset,\n",
    "                                      epochs=2)"
   ]
  },
  {
   "cell_type": "code",
   "execution_count": 37,
   "id": "9892158e-dca3-45f8-b418-0d3bae5a64b0",
   "metadata": {},
   "outputs": [],
   "source": [
    "tdataset = tf.data.Dataset.from_tensor_slices(({\"input_ids_layer\": test_encodings.input_ids, \"attention_mask_layer\": test_encodings.attention_mask}, s1_test_labels))\n",
    "tdataset = tdataset.batch(32).prefetch(tf.data.experimental.AUTOTUNE)"
   ]
  },
  {
   "cell_type": "code",
   "execution_count": 38,
   "id": "6cef9c75-aa21-4aca-bfdd-9bebd8120fb1",
   "metadata": {},
   "outputs": [
    {
     "name": "stdout",
     "output_type": "stream",
     "text": [
      "32/32 [==============================] - 3s 97ms/step - loss: 0.1616 - accuracy: 0.9510\n"
     ]
    },
    {
     "data": {
      "text/plain": [
       "[0.1615717113018036, 0.9509999752044678]"
      ]
     },
     "execution_count": 38,
     "metadata": {},
     "output_type": "execute_result"
    }
   ],
   "source": [
    "s1_roberta_model.evaluate(tdataset)"
   ]
  },
  {
   "cell_type": "code",
   "execution_count": 39,
   "id": "999a792d-a137-4c3b-b0e2-3b01fda5d02f",
   "metadata": {},
   "outputs": [
    {
     "name": "stdout",
     "output_type": "stream",
     "text": [
      "32/32 [==============================] - 6s 96ms/step\n"
     ]
    }
   ],
   "source": [
    "predictions_s1 = s1_roberta_model.predict([test_encodings['input_ids'], test_encodings[\"attention_mask\"]])\n",
    "predictions_s1 = tf.argmax(predictions_s1, axis=-1)"
   ]
  },
  {
   "cell_type": "markdown",
   "id": "f6ead44c-c982-4cfe-b242-8463faca089c",
   "metadata": {},
   "source": [
    "### Step 2"
   ]
  },
  {
   "cell_type": "code",
   "execution_count": 40,
   "id": "5b3a89df-6307-4b5d-b0c8-6618e0abb639",
   "metadata": {},
   "outputs": [],
   "source": [
    "train_mask = tf.equal(s1_train_labels, 3)\n",
    "s2_train_encodings = {\"input_ids\": tf.boolean_mask(train_encodings['input_ids'], train_mask),\n",
    "                     \"attention_mask\": tf.boolean_mask(train_encodings['attention_mask'], train_mask)}\n",
    "s2_train_labels =  tf.boolean_mask(train_labels.copy(), train_mask) -3\n",
    "s2_dataset = tf.data.Dataset.from_tensor_slices(({\"input_ids_layer\": s2_train_encodings['input_ids'], \"attention_mask_layer\": s2_train_encodings['attention_mask']}, s2_train_labels))\n",
    "s2_dataset = s2_dataset.batch(32).prefetch(tf.data.experimental.AUTOTUNE)\n",
    "\n",
    "\n",
    "valid_mask = tf.equal(s1_valid_labels, 3)\n",
    "s2_valid_encodings = {\"input_ids\": tf.boolean_mask(valid_encodings['input_ids'], valid_mask),\n",
    "                     \"attention_mask\": tf.boolean_mask(valid_encodings['attention_mask'], valid_mask)}\n",
    "s2_valid_labels = tf.boolean_mask(valid_labels.copy(), valid_mask) - 3\n",
    "s2_vdataset = tf.data.Dataset.from_tensor_slices(({\"input_ids_layer\": s2_valid_encodings['input_ids'], \"attention_mask_layer\": s2_valid_encodings['attention_mask']}, s2_valid_labels))\n",
    "s2_vdataset = s2_vdataset.batch(32).prefetch(tf.data.experimental.AUTOTUNE)\n",
    "\n",
    "test_mask = tf.equal(s1_test_labels, 3)\n",
    "s2_test_encodings = {\"input_ids\": tf.boolean_mask(test_encodings['input_ids'], test_mask),\n",
    "                     \"attention_mask\": tf.boolean_mask(test_encodings['attention_mask'], test_mask)}\n",
    "s2_test_labels = tf.boolean_mask(test_labels.copy(), test_mask) - 3\n",
    "s2_tdataset = tf.data.Dataset.from_tensor_slices(({\"input_ids_layer\": s2_test_encodings['input_ids'], \"attention_mask_layer\": s2_test_encodings['attention_mask']}, s2_test_labels))\n",
    "s2_tdataset = s2_tdataset.batch(32).prefetch(tf.data.experimental.AUTOTUNE)\n"
   ]
  },
  {
   "cell_type": "code",
   "execution_count": 41,
   "id": "5bf92250-86be-4811-b749-39dab1c15f4a",
   "metadata": {},
   "outputs": [],
   "source": [
    "s2_roberta_model = create_roberta_cl_model(model=roberta_model, num_classes=3)"
   ]
  },
  {
   "cell_type": "code",
   "execution_count": 42,
   "id": "c0b1d4e0-1393-496c-9da6-fbef4af45516",
   "metadata": {},
   "outputs": [
    {
     "name": "stdout",
     "output_type": "stream",
     "text": [
      "1974/1974 [==============================] - 241s 116ms/step - loss: 0.3769 - accuracy: 0.8670 - val_loss: 0.2751 - val_accuracy: 0.8937\n"
     ]
    }
   ],
   "source": [
    "s2_roberta_history = s2_roberta_model.fit(s2_dataset,\n",
    "                                      validation_data=s2_vdataset,\n",
    "                                      epochs=1)"
   ]
  },
  {
   "cell_type": "code",
   "execution_count": 43,
   "id": "1d62cc31-2a55-4f80-b59c-fbf92dc773de",
   "metadata": {},
   "outputs": [
    {
     "name": "stdout",
     "output_type": "stream",
     "text": [
      "6/6 [==============================] - 4s 89ms/step\n"
     ]
    }
   ],
   "source": [
    "predictions_s2 = s2_roberta_model.predict([s2_test_encodings['input_ids'], s2_test_encodings[\"attention_mask\"]])\n",
    "predictions_s2 = tf.argmax(predictions_s2, axis=-1)"
   ]
  },
  {
   "cell_type": "markdown",
   "id": "b7c163b7-db45-4d81-a82f-119bc375c71b",
   "metadata": {},
   "source": [
    "### Combine"
   ]
  },
  {
   "cell_type": "code",
   "execution_count": 44,
   "id": "b06c1ff9-79a6-465b-89d7-7385971eaac9",
   "metadata": {},
   "outputs": [
    {
     "name": "stdout",
     "output_type": "stream",
     "text": [
      "6/6 [==============================] - 1s 87ms/step\n"
     ]
    }
   ],
   "source": [
    "pred_mask = tf.equal(predictions_s1, 3)\n",
    "s2_test_encodings = {\"input_ids\": tf.boolean_mask(test_encodings['input_ids'], pred_mask),\n",
    "                     \"attention_mask\": tf.boolean_mask(test_encodings['attention_mask'], pred_mask)}\n",
    "predictions_s2_2 = s2_roberta_model.predict([s2_test_encodings['input_ids'], s2_test_encodings[\"attention_mask\"]])\n",
    "predictions_s2_2 = tf.argmax(predictions_s2_2, axis=-1)\n",
    "\n",
    "predictions_s2_2 = predictions_s2_2.numpy() + 3\n",
    "\n",
    "predictions_comb = predictions_s1.numpy()\n",
    "predictions_comb[pred_mask] = predictions_s2_2"
   ]
  },
  {
   "cell_type": "code",
   "execution_count": 45,
   "id": "d98875b2-dcff-4fc5-b0d8-c4004bddaf6e",
   "metadata": {},
   "outputs": [
    {
     "name": "stdout",
     "output_type": "stream",
     "text": [
      "              precision    recall  f1-score   support\n",
      "\n",
      "           0       0.97      0.98      0.98       291\n",
      "           1       0.97      0.93      0.95       268\n",
      "           2       0.93      0.95      0.94       256\n",
      "           3       0.88      0.86      0.87       145\n",
      "           4       0.58      0.81      0.68        31\n",
      "           5       1.00      0.22      0.36         9\n",
      "\n",
      "    accuracy                           0.93      1000\n",
      "   macro avg       0.89      0.79      0.80      1000\n",
      "weighted avg       0.94      0.93      0.93      1000\n",
      "\n"
     ]
    }
   ],
   "source": [
    "print(classification_report(test_labels, predictions_comb))"
   ]
  },
  {
   "cell_type": "code",
   "execution_count": 46,
   "id": "17f33b2a-1335-4776-93ab-119f66bb7c37",
   "metadata": {},
   "outputs": [],
   "source": [
    "cm = tf.math.confusion_matrix(test_labels, predictions_comb)\n",
    "cm = cm/cm.numpy().sum(axis=1)[:, tf.newaxis]"
   ]
  },
  {
   "cell_type": "code",
   "execution_count": 47,
   "id": "8f61508d-480f-4d27-bd8a-ebda2392cab8",
   "metadata": {},
   "outputs": [
    {
     "data": {
      "text/plain": [
       "Text(220.72222222222223, 0.5, 'True')"
      ]
     },
     "execution_count": 47,
     "metadata": {},
     "output_type": "execute_result"
    },
    {
     "data": {
      "image/png": "[encoded data removed]",
      "text/plain": [
       "<Figure size 2000x700 with 2 Axes>"
      ]
     },
     "metadata": {},
     "output_type": "display_data"
    }
   ],
   "source": [
    "plt.figure(figsize=(20,7))\n",
    "sns.heatmap(\n",
    "    cm, annot=True)\n",
    "plt.xlabel(\"Predicted\")\n",
    "plt.ylabel(\"True\")"
   ]
  },
  {
   "cell_type": "code",
   "execution_count": null,
   "id": "c1dcfee9-4e42-44a1-ad5b-f50994b72da4",
   "metadata": {},
   "outputs": [],
   "source": []
  },
  {
   "cell_type": "code",
   "execution_count": null,
   "id": "0437bea2-387b-4256-bb5a-b5863d3321f2",
   "metadata": {},
   "outputs": [],
   "source": []
  },
  {
   "cell_type": "code",
   "execution_count": null,
   "id": "a11d5084-76ad-4b3e-ac8d-ad2b27d4007d",
   "metadata": {},
   "outputs": [],
   "source": []
  },
  {
   "cell_type": "code",
   "execution_count": null,
   "id": "ffdb3660-31c9-42f9-8d3e-be07a9198e7e",
   "metadata": {},
   "outputs": [],
   "source": []
  },
  {
   "cell_type": "code",
   "execution_count": null,
   "id": "df75dad0-ab49-4443-93a6-9fc1692e72c5",
   "metadata": {},
   "outputs": [],
   "source": []
  }
 ],
 "metadata": {
  "kernelspec": {
   "display_name": "Python 3 (ipykernel)",
   "language": "python",
   "name": "python3"
  },
  "language_info": {
   "codemirror_mode": {
    "name": "ipython",
    "version": 3
   },
   "file_extension": ".py",
   "mimetype": "text/x-python",
   "name": "python",
   "nbconvert_exporter": "python",
   "pygments_lexer": "ipython3",
   "version": "3.9.18"
  }
 },
 "nbformat": 4,
 "nbformat_minor": 5
}
