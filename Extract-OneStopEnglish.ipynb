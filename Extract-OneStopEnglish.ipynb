{
 "cells": [
  {
   "cell_type": "code",
   "execution_count": 1,
   "id": "2b6fea4d",
   "metadata": {},
   "outputs": [],
   "source": [
    "from collections import Counter\n",
    "import numpy as np\n",
    "import pandas as pd\n",
    "import tensorflow as tf\n",
    "from tensorflow import keras\n",
    "\n",
    "import seaborn as sns\n",
    "import matplotlib.pyplot as plt"
   ]
  },
  {
   "cell_type": "markdown",
   "id": "fa556fa3-cc80-4751-9e94-a5507e7bedc6",
   "metadata": {},
   "source": [
    "# Join OneStopEnglishCorpus"
   ]
  },
  {
   "cell_type": "code",
   "execution_count": 115,
   "id": "7422d432",
   "metadata": {},
   "outputs": [
    {
     "name": "stdout",
     "output_type": "stream",
     "text": [
      ".DS_Store\n",
      "OneStopEnglishCorpus/Texts-SeparatedByReadingLevel\n"
     ]
    }
   ],
   "source": [
    "import os \n",
    "\n",
    "df = pd.DataFrame(columns=[['text', 'labels']])\n",
    "d = \"OneStopEnglishCorpus/Texts-SeparatedByReadingLevel\"\n",
    "\n",
    "for level in os.listdir(d):\n",
    "    try:\n",
    "        for f in os.listdir(os.path.join(d, level)):\n",
    "            try:\n",
    "                temp = pd.read_csv(os.path.join(d, level, f), delimiter='\\t', header=None, encoding='ISO-8859-1')\n",
    "                temp.columns = [['text']]\n",
    "                temp['labels'] = level\n",
    "                df = pd.concat([df, temp])\n",
    "            except:\n",
    "                print(f)\n",
    "    except:\n",
    "        print(d)\n",
    "\n",
    "        "
   ]
  }
 ],
 "metadata": {
  "kernelspec": {
   "display_name": "Python 3 (ipykernel)",
   "language": "python",
   "name": "python3"
  },
  "language_info": {
   "codemirror_mode": {
    "name": "ipython",
    "version": 3
   },
   "file_extension": ".py",
   "mimetype": "text/x-python",
   "name": "python",
   "nbconvert_exporter": "python",
   "pygments_lexer": "ipython3",
   "version": "3.9.18"
  }
 },
 "nbformat": 4,
 "nbformat_minor": 5
}
