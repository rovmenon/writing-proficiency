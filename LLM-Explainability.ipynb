{
 "cells": [
  {
   "cell_type": "code",
   "execution_count": 1,
   "id": "d970d855",
   "metadata": {},
   "outputs": [],
   "source": [
    "import pandas as pd\n",
    "import numpy as np"
   ]
  },
  {
   "cell_type": "code",
   "execution_count": 2,
   "id": "9b9bfb4f",
   "metadata": {},
   "outputs": [],
   "source": [
    "df = pd.read_csv(\"efcamdat_final.csv\")"
   ]
  },
  {
   "cell_type": "code",
   "execution_count": 3,
   "id": "a10d541e",
   "metadata": {},
   "outputs": [],
   "source": [
    "rubric = pd.read_csv(\"../cefr_desc.csv\")"
   ]
  },
  {
   "cell_type": "code",
   "execution_count": 4,
   "id": "e3ad9215",
   "metadata": {},
   "outputs": [
    {
     "data": {
      "text/html": [
       "<div>\n",
       "<style scoped>\n",
       "    .dataframe tbody tr th:only-of-type {\n",
       "        vertical-align: middle;\n",
       "    }\n",
       "\n",
       "    .dataframe tbody tr th {\n",
       "        vertical-align: top;\n",
       "    }\n",
       "\n",
       "    .dataframe thead th {\n",
       "        text-align: right;\n",
       "    }\n",
       "</style>\n",
       "<table border=\"1\" class=\"dataframe\">\n",
       "  <thead>\n",
       "    <tr style=\"text-align: right;\">\n",
       "      <th></th>\n",
       "      <th>No</th>\n",
       "      <th>CEFR Descriptor Scheme (updated)</th>\n",
       "      <th>Mode of\\ncommunication</th>\n",
       "      <th>Activity, strategy or competence</th>\n",
       "      <th>Scale</th>\n",
       "      <th>Level</th>\n",
       "      <th>Descriptor</th>\n",
       "    </tr>\n",
       "  </thead>\n",
       "  <tbody>\n",
       "    <tr>\n",
       "      <th>0</th>\n",
       "      <td>1.0</td>\n",
       "      <td>Communicative language activities</td>\n",
       "      <td>Reception</td>\n",
       "      <td>Oral comprehension</td>\n",
       "      <td>Overall oral comprehension</td>\n",
       "      <td>C2</td>\n",
       "      <td>Can understand with ease virtually any kind of...</td>\n",
       "    </tr>\n",
       "    <tr>\n",
       "      <th>1</th>\n",
       "      <td>2.0</td>\n",
       "      <td>Communicative language activities</td>\n",
       "      <td>Reception</td>\n",
       "      <td>Oral comprehension</td>\n",
       "      <td>Overall oral comprehension</td>\n",
       "      <td>C1</td>\n",
       "      <td>Can understand enough to follow extended disco...</td>\n",
       "    </tr>\n",
       "    <tr>\n",
       "      <th>2</th>\n",
       "      <td>3.0</td>\n",
       "      <td>Communicative language activities</td>\n",
       "      <td>Reception</td>\n",
       "      <td>Oral comprehension</td>\n",
       "      <td>Overall oral comprehension</td>\n",
       "      <td>C1</td>\n",
       "      <td>Can recognise a wide range of idiomatic expres...</td>\n",
       "    </tr>\n",
       "    <tr>\n",
       "      <th>3</th>\n",
       "      <td>4.0</td>\n",
       "      <td>Communicative language activities</td>\n",
       "      <td>Reception</td>\n",
       "      <td>Oral comprehension</td>\n",
       "      <td>Overall oral comprehension</td>\n",
       "      <td>C1</td>\n",
       "      <td>Can follow extended discourse even when it is ...</td>\n",
       "    </tr>\n",
       "    <tr>\n",
       "      <th>4</th>\n",
       "      <td>5.0</td>\n",
       "      <td>Communicative language activities</td>\n",
       "      <td>Reception</td>\n",
       "      <td>Oral comprehension</td>\n",
       "      <td>Overall oral comprehension</td>\n",
       "      <td>B2+</td>\n",
       "      <td>Can understand standard language or a familiar...</td>\n",
       "    </tr>\n",
       "    <tr>\n",
       "      <th>...</th>\n",
       "      <td>...</td>\n",
       "      <td>...</td>\n",
       "      <td>...</td>\n",
       "      <td>...</td>\n",
       "      <td>...</td>\n",
       "      <td>...</td>\n",
       "      <td>...</td>\n",
       "    </tr>\n",
       "    <tr>\n",
       "      <th>1830</th>\n",
       "      <td>1831.0</td>\n",
       "      <td>Signing competences</td>\n",
       "      <td>NaN</td>\n",
       "      <td>Pragmatic competence</td>\n",
       "      <td>Signing fluency</td>\n",
       "      <td>A2</td>\n",
       "      <td>Can indicate the end of a sentence clearly by ...</td>\n",
       "    </tr>\n",
       "    <tr>\n",
       "      <th>1831</th>\n",
       "      <td>1832.0</td>\n",
       "      <td>Signing competences</td>\n",
       "      <td>NaN</td>\n",
       "      <td>Pragmatic competence</td>\n",
       "      <td>Signing fluency</td>\n",
       "      <td>A1</td>\n",
       "      <td>No descriptors available</td>\n",
       "    </tr>\n",
       "    <tr>\n",
       "      <th>1832</th>\n",
       "      <td>NaN</td>\n",
       "      <td>NaN</td>\n",
       "      <td>NaN</td>\n",
       "      <td>NaN</td>\n",
       "      <td>NaN</td>\n",
       "      <td>NaN</td>\n",
       "      <td>NaN</td>\n",
       "    </tr>\n",
       "    <tr>\n",
       "      <th>1833</th>\n",
       "      <td>NaN</td>\n",
       "      <td>NaN</td>\n",
       "      <td>NaN</td>\n",
       "      <td>NaN</td>\n",
       "      <td>NaN</td>\n",
       "      <td>NaN</td>\n",
       "      <td>NaN</td>\n",
       "    </tr>\n",
       "    <tr>\n",
       "      <th>1834</th>\n",
       "      <td>NaN</td>\n",
       "      <td>NaN</td>\n",
       "      <td>NaN</td>\n",
       "      <td>NaN</td>\n",
       "      <td>NaN</td>\n",
       "      <td>NaN</td>\n",
       "      <td>NaN</td>\n",
       "    </tr>\n",
       "  </tbody>\n",
       "</table>\n",
       "<p>1835 rows × 7 columns</p>\n",
       "</div>"
      ],
      "text/plain": [
       "          No   CEFR Descriptor Scheme (updated) Mode of\\ncommunication  \\\n",
       "0        1.0  Communicative language activities              Reception   \n",
       "1        2.0  Communicative language activities              Reception   \n",
       "2        3.0  Communicative language activities              Reception   \n",
       "3        4.0  Communicative language activities              Reception   \n",
       "4        5.0  Communicative language activities              Reception   \n",
       "...      ...                                ...                    ...   \n",
       "1830  1831.0                Signing competences                    NaN   \n",
       "1831  1832.0                Signing competences                    NaN   \n",
       "1832     NaN                                NaN                    NaN   \n",
       "1833     NaN                                NaN                    NaN   \n",
       "1834     NaN                                NaN                    NaN   \n",
       "\n",
       "     Activity, strategy or competence                       Scale Level  \\\n",
       "0                  Oral comprehension  Overall oral comprehension    C2   \n",
       "1                  Oral comprehension  Overall oral comprehension    C1   \n",
       "2                  Oral comprehension  Overall oral comprehension    C1   \n",
       "3                  Oral comprehension  Overall oral comprehension    C1   \n",
       "4                  Oral comprehension  Overall oral comprehension   B2+   \n",
       "...                               ...                         ...   ...   \n",
       "1830             Pragmatic competence             Signing fluency    A2   \n",
       "1831             Pragmatic competence             Signing fluency    A1   \n",
       "1832                              NaN                         NaN   NaN   \n",
       "1833                              NaN                         NaN   NaN   \n",
       "1834                              NaN                         NaN   NaN   \n",
       "\n",
       "                                             Descriptor  \n",
       "0     Can understand with ease virtually any kind of...  \n",
       "1     Can understand enough to follow extended disco...  \n",
       "2     Can recognise a wide range of idiomatic expres...  \n",
       "3     Can follow extended discourse even when it is ...  \n",
       "4     Can understand standard language or a familiar...  \n",
       "...                                                 ...  \n",
       "1830  Can indicate the end of a sentence clearly by ...  \n",
       "1831                           No descriptors available  \n",
       "1832                                                NaN  \n",
       "1833                                                NaN  \n",
       "1834                                                NaN  \n",
       "\n",
       "[1835 rows x 7 columns]"
      ]
     },
     "execution_count": 4,
     "metadata": {},
     "output_type": "execute_result"
    }
   ],
   "source": [
    "rubric"
   ]
  },
  {
   "cell_type": "code",
   "execution_count": 5,
   "id": "d69e95de",
   "metadata": {},
   "outputs": [],
   "source": [
    "rubric.columns\n",
    "rubric['Activity, strategy or competence'].unique()\n",
    "wrubric = rubric.loc[(rubric['Activity, strategy or competence'] == 'Written production')\n",
    "          | (rubric['Activity, strategy or competence'] == 'Written interaction')]"
   ]
  },
  {
   "cell_type": "code",
   "execution_count": 6,
   "id": "5e9588ad",
   "metadata": {},
   "outputs": [],
   "source": [
    "wrubric = wrubric[wrubric['Level'] != 'Pre-A1']"
   ]
  },
  {
   "cell_type": "code",
   "execution_count": 7,
   "id": "c867782c",
   "metadata": {},
   "outputs": [],
   "source": [
    "wrubric.loc[wrubric['Level'] == 'A2+'] = 'B1'\n",
    "wrubric.loc[wrubric['Level'] == 'B1+'] = 'B2'\n",
    "wrubric.loc[wrubric['Level'] == 'B2+'] = 'C1'"
   ]
  },
  {
   "cell_type": "code",
   "execution_count": 8,
   "id": "5f859b39",
   "metadata": {},
   "outputs": [],
   "source": [
    "wrubric = wrubric.groupby('Level')['Descriptor'].apply(lambda x: '; '.join(x)).reset_index()"
   ]
  },
  {
   "cell_type": "code",
   "execution_count": 9,
   "id": "c2793e78",
   "metadata": {},
   "outputs": [],
   "source": [
    "rub = {}\n",
    "for idx, row in wrubric.iterrows():\n",
    "    rub[row['Level']] = row['Descriptor']"
   ]
  },
  {
   "cell_type": "code",
   "execution_count": 10,
   "id": "82ba46ec",
   "metadata": {},
   "outputs": [
    {
     "data": {
      "text/plain": [
       "{'A1': 'Can give information about matters of personal relevance (e.g. likes and dislikes, family, pets) using simple words/signs and basic expressions.; Can produce simple isolated phrases and sentences.; Can produce simple phrases and sentences about themselves and imaginary people, where they live and what they do.; Can describe in very simple language what a room looks like.; Can use simple words/signs and phrases to describe certain everyday objects (e.g. the colour of a car, whether it is big or small).; No descriptors available; Can ask for or pass on personal details.; Can compose messages and online postings as a series of very short sentences about hobbies and likes/dislikes, using simple words and formulaic expressions, with reference to a dictionary.; Can compose a short, simple postcard.; Can compose a short, very simple message (e.g. a text message) to friends to give them a piece of information or to ask them a question.; Can fill in numbers and dates, own name, nationality, address, age, date of birth or arrival in the country, etc., e.g. on a hotel registration form.; Can leave a simple message giving information regarding for instance where they have gone, or what time they will be back (e.g. “Shopping: back at 5 p.m.”).',\n",
       " 'A2': 'Can produce a series of simple phrases and sentences linked with simple connectors like “and”, “but” and “because”.; Can produce a series of simple phrases and sentences about their family, living conditions, educational background, or present or most recent job.; Can create short, simple imaginary biographies and simple poems about people.; Can create diary entries that describe activities (e.g. daily routine, outings, sports, hobbies), people and places, using basic, concrete vocabulary and simple phrases and sentences with simple connectives like “and”, “but” and “because”.; Can compose an introduction to a story or continue a story, provided they can consult a dictionary and references (e.g. tables of verb tenses in a course book).; Can produce simple texts on familiar subjects of interest, linking sentences with connectors like “and”, “because” or “then”.; Can give their impressions and opinions about topics of personal interest (e.g. lifestyles and culture, stories), using basic everyday vocabulary and expressions.; Can compose short, simple formulaic notes relating to matters in areas of immediate need.; Can convey personal information of a routine nature, for example in a short e-mail or letter introducing themselves.; Can compose very simple personal letters expressing thanks and apology.; Can compose short, simple notes, e-mails and text messages (e.g. to send or reply to an invitation, to confirm or change an arrangement).; Can compose a short text in a greetings card (e.g. for someone’s birthday or to wish them a Happy New Year).; Can formulate short, simple notes and messages relating to matters in areas of immediate need.; Can fill in personal and other details on most everyday forms (e.g. to open a bank account, or to send a letter by recorded delivery).',\n",
       " 'B1': 'Can produce straightforward connected texts on a range of familiar subjects within their field of interest, by linking a series of shorter discrete elements into a linear sequence.; Can give straightforward, detailed descriptions on a range of familiar subjects within their field of interest.; Can give accounts of experiences, describing feelings and reactions in simple, connected text.; Can give a description of an event, a recent trip – real or imagined.; Can narrate a story.; B1; B1; B1; Can produce very brief reports in a standard conventionalised format, which pass on routine factual information and state reasons for actions.; Can present a topic in a short report or poster, using photographs and short blocks of text.; Can compose personal letters and notes asking for or conveying simple information of immediate relevance, getting across the point they feel to be important.; Can compose personal letters describing experiences, feelings and events in some detail.; Can compose basic e-mails/letters of a factual nature (e.g. to request information or to ask for and give confirmation).; Can compose a basic letter of application with limited supporting details.; B1; Can formulate notes conveying simple information of immediate relevance to friends, service people, teachers and others who feature in their everyday life, getting across comprehensibly the points they feel are important.; Can take messages over the phone containing several points, provided the caller dictates these clearly and sympathetically.; B1',\n",
       " 'B2': 'Can produce clear, detailed texts on a variety of subjects related to their field of interest, synthesising and evaluating information and arguments from a number of sources.; Can give clear, detailed descriptions on a variety of subjects related to their field of interest.; Can give a review of a film, book or play.; B2; B2; Can produce an essay or report which develops an argument, giving reasons in support of or against a particular point of view and explaining the advantages and disadvantages of various options.; Can synthesise information and arguments from a number of sources.; B2; B2; B2; Can express news and views effectively in writing, and relate to those of others.; B2; Can compose letters conveying degrees of emotion and highlighting the personal significance of events and experiences and commenting on the correspondent’s news and views.; Can use formality and conventions appropriate to the context when writing personal and professional letters and e-mails.; Can compose formal e-mails/letters of invitation, thanks or apology using appropriate registers and conventions.; Can compose non-routine professional letters, using appropriate structure and conventions, provided these are restricted to matters of fact.; Can obtain, by letter or e-mail, information required for a particular purpose, collate it and forward it by e-mail to other people.; B2; B2; B2; B2; Can take or leave complex personal or professional messages, provided they can ask for clarification or elaboration if necessary.; B2; B2',\n",
       " 'C1': 'Can produce clear, well-structured texts of complex subjects, underlining the relevant salient issues, expanding and supporting points of view at some length with subsidiary points, reasons and relevant examples, and rounding off with an appropriate conclusion.; Can employ the structure and conventions of a variety of genres, varying the tone, style and register according to addressee, text type and theme.; Can produce clear, detailed, well-structured and developed descriptions and imaginative texts in an assured, personal, natural style appropriate to the reader in mind.; Can incorporate idiom and humour, though use of the latter is not always appropriate.; Can give a detailed critical review of cultural events (e.g. plays, films, concerts) or literary works.; C1; Can produce clear, well-structured expositions of complex subjects, underlining the relevant salient issues.; Can expand and support points of view at some length with subsidiary points, reasons and relevant examples.; Can produce a suitable introduction and conclusion to a longer report, article or dissertation on a complex academic or professional topic provided the topic is within their field of interest and there are opportunities for redrafting and revision.; C1; C1; C1; Can express themselves with clarity and precision, relating to the addressee flexibly and effectively.; Can express themselves with clarity and precision in personal correspondence, using language flexibly and effectively, including emotional, allusive and joking usage.; Can, with good expression and accuracy, compose formal correspondence such as letters of clarification, application, recommendation, reference, complaint, sympathy and condolence.; C1; C1; C1; C1; No descriptors available; see B2',\n",
       " 'C2': 'Can produce clear, smoothly flowing, complex texts in an appropriate and effective style and a logical structure which helps the reader identify significant points.; Can relate clear, smoothly flowing and engaging stories and descriptions of experience in a style appropriate to the genre adopted.; Can exploit idiom and humour appropriately to enhance the impact of the text.; Can produce clear, smoothly flowing, complex reports, articles or essays which present a case, or give critical appreciation of proposals or literary works.; Can provide an appropriate and effective logical structure which helps the reader identify significant points.; Can set out multiple perspectives on complex academic or professional topics, clearly distinguishing their own ideas and opinions from those in the sources.; Can express themselves in an appropriate tone and style in virtually any type of formal and informal interaction.; Can compose virtually any type of correspondence necessary in the course of their professional life in an appropriate tone and style.; No descriptors available; see B2'}"
      ]
     },
     "execution_count": 10,
     "metadata": {},
     "output_type": "execute_result"
    }
   ],
   "source": [
    "rub"
   ]
  },
  {
   "cell_type": "code",
   "execution_count": 181,
   "id": "fbdcb3d1",
   "metadata": {},
   "outputs": [],
   "source": [
    "preamble = f\"\"\"You are an agent designed to provide feedback on writing samples according to the provided rubric. You will first \n",
    "            receive the rubric, then you will receive the writing sample and what classification it falls under. You will use\n",
    "            this information to explain why the writing sample falls under that classification based on the rubric. \n",
    "\n",
    "            The following rubric is given in the format of Classification level: Description, Classification level: Description, ...\n",
    "            Here is the rubric:\n",
    "\n",
    "            {str(rub)}\n",
    "\n",
    "            \"\"\""
   ]
  },
  {
   "cell_type": "code",
   "execution_count": 183,
   "id": "6b02386c",
   "metadata": {},
   "outputs": [],
   "source": [
    "A_test = df[(df['cefr_numeric'] == 1) | (df['cefr_numeric'] == 2)].sample(1)\n",
    "B_test = df[(df['cefr_numeric'] == 3) | (df['cefr_numeric'] == 4)].sample(1)\n",
    "C_test = df[(df['cefr_numeric'] == 5)].sample(1)"
   ]
  },
  {
   "cell_type": "code",
   "execution_count": 184,
   "id": "cf67410c",
   "metadata": {},
   "outputs": [],
   "source": [
    "import cohere\n",
    "\n",
    "def explain(text, label, preamble):\n",
    "    label_mappings = {1:'A1', 2:'A2', 3:'B1', 4:'B2', 5:'C1', 6:'C2'}\n",
    "    label_cat = label_mappings[label]\n",
    "    \n",
    "    print(f\"Student Text: {text}\")\n",
    "    print(f\"Proficiency Category: {label_cat}\")\n",
    "    \n",
    "    co = cohere.Client(\"2ZaCKyd56DeUgdhmBCm1og2bTY79yarrEIkBy7i6\")\n",
    "    response = co.chat(message=f\"Please explain to me why this piece of text {text} was classified as {label_cat}. Give me specific details why it is not classified higher.\", preamble=preamble, max_tokens=250)\n",
    "    return response "
   ]
  },
  {
   "cell_type": "markdown",
   "id": "35489fde",
   "metadata": {},
   "source": [
    "# Sample of A, B, C Explainability"
   ]
  },
  {
   "cell_type": "code",
   "execution_count": 185,
   "id": "b6b86182",
   "metadata": {},
   "outputs": [
    {
     "name": "stdout",
     "output_type": "stream",
     "text": [
      "Student Text: \n",
      "\t  Hi, can you buy me:  A bottle of red wine, a loaf of bread, a bag of rice, a packet of chips, one box of ice cream, some tomatoes and some pork.  Thanks.  When you go back, I'll invite you for dinner in my house!\n",
      "\t\n",
      "Proficiency Category: A1\n"
     ]
    },
    {
     "data": {
      "text/plain": [
       "'This piece of text is classified as A1 because it demonstrates the ability to use simple words and phrases to convey a message about matters of personal relevance (in this case, requesting someone to buy some groceries and inviting them for dinner). Here are the specific reasons why it falls under the A1 classification and not higher:\\n\\n- **Limited vocabulary and sentence structure:** The text uses simple words and phrases like \"a bottle of,\" \"a loaf of,\" and \"a bag of,\" indicating a basic vocabulary level. The sentences are short and mainly consist of subject-verb-object structures, which is typical of A1-level language production.\\n- **Lack of complex connectors:** The text does not demonstrate the use of complex connectors like \"because,\" \"although,\" or \"despite,\" which are characteristic of higher-level language production. The only connector used is \"and,\" which is a basic connector.\\n- **No abstract or complex ideas:** The content of the text is concrete and practical, focusing on specific items to be purchased. There are no abstract concepts, complex arguments, or detailed descriptions, which would be expected in higher-level writing (e.g., B1, B2, or C1).\\n- **Limited'"
      ]
     },
     "execution_count": 185,
     "metadata": {},
     "output_type": "execute_result"
    }
   ],
   "source": [
    "explain(A_test['text'].values[0], A_test['cefr_numeric'].values[0], preamble).text"
   ]
  },
  {
   "cell_type": "code",
   "execution_count": 186,
   "id": "70cfdbf3",
   "metadata": {},
   "outputs": [
    {
     "name": "stdout",
     "output_type": "stream",
     "text": [
      "Student Text: \n",
      "\t  Instructions for Frisbee bowling Please. We need to mark an area of 8 meters by 3 meters.  Lets use ten plastic bottles as 'bowling pins' with a little of water to make them heavier. Line up the bottles in line of 4, then 3, then 2 and then 1, like ten-pine bowling. Each player will get a frisbee and do two shots on each turn. To score the player needs to knock down each pin. The player with the most points is the winner.   \n",
      "\t\n",
      "Proficiency Category: B1\n"
     ]
    },
    {
     "data": {
      "text/plain": [
       "'The text is classified as B1 because it demonstrates the ability to produce a straightforward, connected text on a familiar topic, in this case, a set of instructions for a game. The description is clear and easy to follow, with a logical structure that helps the reader understand the rules and objective of the game. \\n\\nHowever, there are several reasons why it is not classified at a higher level, such as B2 or C1: \\n\\n- Limited complexity: The text does not demonstrate the ability to synthesize or evaluate information from multiple sources, which is a characteristic of higher levels. It focuses on providing clear instructions rather than analyzing or discussing the game in a more complex manner. \\n- Lack of argumentation: Higher levels, especially B2 and above, often involve developing arguments and expressing opinions. This text does not include any personal views or attempts to persuade the reader, which is typical of B1-level writing. \\n- Restricted vocabulary and grammar: While the text is well-written and effective for its purpose, it does not showcase a wide range of vocabulary or complex grammatical structures. Higher levels would typically involve a more varied and sophisticated use of language, including idiomatic expressions and advanced syntax. \\n- Limited scope:'"
      ]
     },
     "execution_count": 186,
     "metadata": {},
     "output_type": "execute_result"
    }
   ],
   "source": [
    "explain(B_test['text'].values[0], B_test['cefr_numeric'].values[0], preamble).text"
   ]
  },
  {
   "cell_type": "code",
   "execution_count": 187,
   "id": "5cc9bb63",
   "metadata": {},
   "outputs": [
    {
     "name": "stdout",
     "output_type": "stream",
     "text": [
      "Student Text: \n",
      "\t  I'd like to start by describing my so called physiolocical needs, which I've achieved generally. Secondly on the ladder appears the safety aspect. Well, I am actually quite comfortable. Everything's fine with my family and every family member feels fine. So there is nothing to criticize. I'd like to get on with the \"love thing \". I am happily married for about 30 years. That's all I'd like to tell you. The intension is on happily here. There is nothing else to say. :) Esteem: I am a hard working guy and trying to give the best in job every day. I am expecting just a little  acknowledgment from time to time. Perhaps a wee bit more as usally . :) Right, last but not least I am not on the top of the ladder. There are a few things which will have to be improved. I really should spend more time with my wife. Work should not play a main role in our life anymore. I'd like to perfect my language skills within the next 3 years as well as  perhaps to start learning a second foreign language. I'd like to travel to New York next year as a short term goal.\n",
      "\t\n",
      "Proficiency Category: C1\n"
     ]
    },
    {
     "data": {
      "text/plain": [
       "'The text is classified as C1 because it demonstrates the ability to produce a clear and well-structured text with complex sentences and an advanced vocabulary. The writer effectively conveys their thoughts and feelings on a personal topic, using appropriate tone and style for the audience. \\n\\nHowever, there are a few reasons why it is not classified higher, at C2:\\n- While the text is clear and well-structured, it does not demonstrate the same level of complexity and sophistication in sentence structure and vocabulary that would be expected at the C2 level. It does not, for example, include much idiomatic or humorous expression, which is something that a C2-level text might incorporate. \\n- The text also does not demonstrate the same level of flexibility in tone and style that a C2-level text might. While the writer does adapt their tone and style appropriately for the audience and topic, there is room for more variation and nuance in their expression. \\n- Finally, while the text is well-organized and logical, it does not demonstrate the same level of sophistication in structure and argumentation that a C2-level text might. It does not, for example, present multiple perspectives on a topic or include extensive justification of the writer'"
      ]
     },
     "execution_count": 187,
     "metadata": {},
     "output_type": "execute_result"
    }
   ],
   "source": [
    "explain(C_test['text'].values[0], C_test['cefr_numeric'].values[0], preamble).text"
   ]
  },
  {
   "cell_type": "code",
   "execution_count": 63,
   "id": "1ec6224a",
   "metadata": {},
   "outputs": [
    {
     "data": {
      "text/html": [
       "<div>\n",
       "<style scoped>\n",
       "    .dataframe tbody tr th:only-of-type {\n",
       "        vertical-align: middle;\n",
       "    }\n",
       "\n",
       "    .dataframe tbody tr th {\n",
       "        vertical-align: top;\n",
       "    }\n",
       "\n",
       "    .dataframe thead th {\n",
       "        text-align: right;\n",
       "    }\n",
       "</style>\n",
       "<table border=\"1\" class=\"dataframe\">\n",
       "  <thead>\n",
       "    <tr style=\"text-align: right;\">\n",
       "      <th></th>\n",
       "      <th>id</th>\n",
       "      <th>level</th>\n",
       "      <th>unit</th>\n",
       "      <th>learner_id</th>\n",
       "      <th>learner_nationality</th>\n",
       "      <th>grade</th>\n",
       "      <th>date</th>\n",
       "      <th>topic_id</th>\n",
       "      <th>text</th>\n",
       "      <th>cefr_numeric</th>\n",
       "      <th>cefr_grouped</th>\n",
       "    </tr>\n",
       "  </thead>\n",
       "  <tbody>\n",
       "    <tr>\n",
       "      <th>0</th>\n",
       "      <td>679604</td>\n",
       "      <td>7</td>\n",
       "      <td>3</td>\n",
       "      <td>114335</td>\n",
       "      <td>br</td>\n",
       "      <td>90</td>\n",
       "      <td>2013-11-09 20:50:31.707</td>\n",
       "      <td>51</td>\n",
       "      <td>From:l AS xxx@hotmail.com To: AS xxx@IXW.corpo...</td>\n",
       "      <td>3</td>\n",
       "      <td>2</td>\n",
       "    </tr>\n",
       "    <tr>\n",
       "      <th>1</th>\n",
       "      <td>151196</td>\n",
       "      <td>9</td>\n",
       "      <td>2</td>\n",
       "      <td>136139</td>\n",
       "      <td>sa</td>\n",
       "      <td>94</td>\n",
       "      <td>2012-09-25 06:01:08.117</td>\n",
       "      <td>66</td>\n",
       "      <td>I am so glad to receive this email from you. A...</td>\n",
       "      <td>3</td>\n",
       "      <td>2</td>\n",
       "    </tr>\n",
       "    <tr>\n",
       "      <th>2</th>\n",
       "      <td>117084</td>\n",
       "      <td>9</td>\n",
       "      <td>4</td>\n",
       "      <td>34715</td>\n",
       "      <td>br</td>\n",
       "      <td>88</td>\n",
       "      <td>2011-08-28 08:01:15.677</td>\n",
       "      <td>68</td>\n",
       "      <td>Hi Fun Skydive, so I give up of my idea. I und...</td>\n",
       "      <td>3</td>\n",
       "      <td>2</td>\n",
       "    </tr>\n",
       "    <tr>\n",
       "      <th>3</th>\n",
       "      <td>113857</td>\n",
       "      <td>7</td>\n",
       "      <td>6</td>\n",
       "      <td>90269</td>\n",
       "      <td>fr</td>\n",
       "      <td>90</td>\n",
       "      <td>2011-07-31 14:51:22.547</td>\n",
       "      <td>54</td>\n",
       "      <td>Dear James, Some serious problems have been br...</td>\n",
       "      <td>3</td>\n",
       "      <td>2</td>\n",
       "    </tr>\n",
       "    <tr>\n",
       "      <th>4</th>\n",
       "      <td>22083</td>\n",
       "      <td>9</td>\n",
       "      <td>3</td>\n",
       "      <td>48465</td>\n",
       "      <td>br</td>\n",
       "      <td>94</td>\n",
       "      <td>2011-08-31 16:41:04.210</td>\n",
       "      <td>67</td>\n",
       "      <td>Dear Sue, Thank you to interest in our product...</td>\n",
       "      <td>3</td>\n",
       "      <td>2</td>\n",
       "    </tr>\n",
       "    <tr>\n",
       "      <th>...</th>\n",
       "      <td>...</td>\n",
       "      <td>...</td>\n",
       "      <td>...</td>\n",
       "      <td>...</td>\n",
       "      <td>...</td>\n",
       "      <td>...</td>\n",
       "      <td>...</td>\n",
       "      <td>...</td>\n",
       "      <td>...</td>\n",
       "      <td>...</td>\n",
       "      <td>...</td>\n",
       "    </tr>\n",
       "    <tr>\n",
       "      <th>377962</th>\n",
       "      <td>1211530</td>\n",
       "      <td>10</td>\n",
       "      <td>3</td>\n",
       "      <td>142733</td>\n",
       "      <td>br</td>\n",
       "      <td>95</td>\n",
       "      <td>2014-03-03 16:17:52.003</td>\n",
       "      <td>75</td>\n",
       "      <td>As we live in Brazil, always is a difficult ti...</td>\n",
       "      <td>4</td>\n",
       "      <td>2</td>\n",
       "    </tr>\n",
       "    <tr>\n",
       "      <th>377963</th>\n",
       "      <td>1211531</td>\n",
       "      <td>10</td>\n",
       "      <td>4</td>\n",
       "      <td>142733</td>\n",
       "      <td>br</td>\n",
       "      <td>95</td>\n",
       "      <td>2014-03-04 18:23:19.820</td>\n",
       "      <td>76</td>\n",
       "      <td>Our last manager meeting included a presentati...</td>\n",
       "      <td>4</td>\n",
       "      <td>2</td>\n",
       "    </tr>\n",
       "    <tr>\n",
       "      <th>377964</th>\n",
       "      <td>1211532</td>\n",
       "      <td>10</td>\n",
       "      <td>5</td>\n",
       "      <td>142733</td>\n",
       "      <td>br</td>\n",
       "      <td>90</td>\n",
       "      <td>2014-03-10 22:28:52.313</td>\n",
       "      <td>77</td>\n",
       "      <td>I always practice sports. I think that my firs...</td>\n",
       "      <td>4</td>\n",
       "      <td>2</td>\n",
       "    </tr>\n",
       "    <tr>\n",
       "      <th>377965</th>\n",
       "      <td>1211533</td>\n",
       "      <td>10</td>\n",
       "      <td>6</td>\n",
       "      <td>142733</td>\n",
       "      <td>br</td>\n",
       "      <td>80</td>\n",
       "      <td>2014-03-17 20:50:46.250</td>\n",
       "      <td>78</td>\n",
       "      <td>I know that it take AG takes sometime, but now...</td>\n",
       "      <td>4</td>\n",
       "      <td>2</td>\n",
       "    </tr>\n",
       "    <tr>\n",
       "      <th>377966</th>\n",
       "      <td>1211574</td>\n",
       "      <td>10</td>\n",
       "      <td>1</td>\n",
       "      <td>39765</td>\n",
       "      <td>br</td>\n",
       "      <td>90</td>\n",
       "      <td>2014-03-11 13:42:06.390</td>\n",
       "      <td>73</td>\n",
       "      <td>Last year I attended a meteting SP meeting to ...</td>\n",
       "      <td>4</td>\n",
       "      <td>2</td>\n",
       "    </tr>\n",
       "  </tbody>\n",
       "</table>\n",
       "<p>377967 rows × 11 columns</p>\n",
       "</div>"
      ],
      "text/plain": [
       "             id  level  unit  learner_id learner_nationality  grade  \\\n",
       "0        679604      7     3      114335                  br     90   \n",
       "1        151196      9     2      136139                  sa     94   \n",
       "2        117084      9     4       34715                  br     88   \n",
       "3        113857      7     6       90269                  fr     90   \n",
       "4         22083      9     3       48465                  br     94   \n",
       "...         ...    ...   ...         ...                 ...    ...   \n",
       "377962  1211530     10     3      142733                  br     95   \n",
       "377963  1211531     10     4      142733                  br     95   \n",
       "377964  1211532     10     5      142733                  br     90   \n",
       "377965  1211533     10     6      142733                  br     80   \n",
       "377966  1211574     10     1       39765                  br     90   \n",
       "\n",
       "                           date  topic_id  \\\n",
       "0       2013-11-09 20:50:31.707        51   \n",
       "1       2012-09-25 06:01:08.117        66   \n",
       "2       2011-08-28 08:01:15.677        68   \n",
       "3       2011-07-31 14:51:22.547        54   \n",
       "4       2011-08-31 16:41:04.210        67   \n",
       "...                         ...       ...   \n",
       "377962  2014-03-03 16:17:52.003        75   \n",
       "377963  2014-03-04 18:23:19.820        76   \n",
       "377964  2014-03-10 22:28:52.313        77   \n",
       "377965  2014-03-17 20:50:46.250        78   \n",
       "377966  2014-03-11 13:42:06.390        73   \n",
       "\n",
       "                                                     text  cefr_numeric  \\\n",
       "0       From:l AS xxx@hotmail.com To: AS xxx@IXW.corpo...             3   \n",
       "1       I am so glad to receive this email from you. A...             3   \n",
       "2       Hi Fun Skydive, so I give up of my idea. I und...             3   \n",
       "3       Dear James, Some serious problems have been br...             3   \n",
       "4       Dear Sue, Thank you to interest in our product...             3   \n",
       "...                                                   ...           ...   \n",
       "377962  As we live in Brazil, always is a difficult ti...             4   \n",
       "377963  Our last manager meeting included a presentati...             4   \n",
       "377964  I always practice sports. I think that my firs...             4   \n",
       "377965  I know that it take AG takes sometime, but now...             4   \n",
       "377966  Last year I attended a meteting SP meeting to ...             4   \n",
       "\n",
       "        cefr_grouped  \n",
       "0                  2  \n",
       "1                  2  \n",
       "2                  2  \n",
       "3                  2  \n",
       "4                  2  \n",
       "...              ...  \n",
       "377962             2  \n",
       "377963             2  \n",
       "377964             2  \n",
       "377965             2  \n",
       "377966             2  \n",
       "\n",
       "[377967 rows x 11 columns]"
      ]
     },
     "execution_count": 63,
     "metadata": {},
     "output_type": "execute_result"
    }
   ],
   "source": [
    "df"
   ]
  },
  {
   "cell_type": "code",
   "execution_count": 170,
   "id": "a65d7727",
   "metadata": {},
   "outputs": [
    {
     "data": {
      "text/plain": [
       "\"Brazilians are a communicative people WC lot . They like to do business face to face. In the Brazilian's PO Brazilian business culture PU , the D interpersonal relations are crucial, once WC since they are the D keys SI key MW if you want to the sucess WC succeed . When you start working with braziians SP Brazilians you will realize the trend to PR of mix WC mixing the D professional and personal relations. Your coworkers will appreciate more your kindness WO your kindness more than your professionalism. Before either a meeting or a business MW interaction, dinner is extremelly SP extremely recommendable WC recommended MW so that you learn some words in Portuguese. You will be very appreciated if you try to speak any word in Portuguese, it seems WC will seem thay SP that you are a dedicated person. Despite to schedule WC scheduling a meeting 2 to 3 weeks before, it is normal p PR for the brazilians SP Brazilians PR to cancel or change the date without prior notice. The man should wear dark color PL colors . Light colors are to PR for the summer. The woman should wear discreet clothing. During the AR a presentation PU , men shake hands, normally for a long time while keep WC keepinf visual contact. The women should extend the hand first. If it is a small group you should greet all people. A good e-mail to start a conversation PU , can be regarding soccer, family and children.%% Try to avoid politics and religion. To be interrupted is normal, it is a signal of interesting and enthusiasm. Brazilians tend to talk with their business partners at a very short distance.\""
      ]
     },
     "execution_count": 170,
     "metadata": {},
     "output_type": "execute_result"
    }
   ],
   "source": [
    "df[df['cefr_grouped'] == 3].sample(1)['text'].values[0]"
   ]
  },
  {
   "cell_type": "code",
   "execution_count": null,
   "id": "50838ace",
   "metadata": {},
   "outputs": [],
   "source": []
  }
 ],
 "metadata": {
  "kernelspec": {
   "display_name": "Python 3 (ipykernel)",
   "language": "python",
   "name": "python3"
  },
  "language_info": {
   "codemirror_mode": {
    "name": "ipython",
    "version": 3
   },
   "file_extension": ".py",
   "mimetype": "text/x-python",
   "name": "python",
   "nbconvert_exporter": "python",
   "pygments_lexer": "ipython3",
   "version": "3.9.18"
  }
 },
 "nbformat": 4,
 "nbformat_minor": 5
}
