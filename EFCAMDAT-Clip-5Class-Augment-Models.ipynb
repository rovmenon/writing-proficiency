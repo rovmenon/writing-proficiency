{
 "cells": [
  {
   "cell_type": "markdown",
   "id": "7baf288c-798c-4e35-863e-df6e3a6fe57c",
   "metadata": {},
   "source": [
    "# EFCamDat 5 Class BERT & RoBERTa (CNN+LSTM / CNN+GRU) Models"
   ]
  },
  {
   "cell_type": "markdown",
   "id": "a48f8f3c-2d2f-4b5b-bb92-d38283a21e71",
   "metadata": {},
   "source": [
    "## Download data and augment"
   ]
  },
  {
   "cell_type": "code",
   "execution_count": 1,
   "id": "31446f80",
   "metadata": {},
   "outputs": [
    {
     "name": "stderr",
     "output_type": "stream",
     "text": [
      "[nltk_data] Downloading package wordnet to C:\\Users\\Danny\n",
      "[nltk_data]     Skahill\\AppData\\Roaming\\nltk_data...\n",
      "[nltk_data]   Package wordnet is already up-to-date!\n",
      "[nltk_data] Downloading package punkt to C:\\Users\\Danny\n",
      "[nltk_data]     Skahill\\AppData\\Roaming\\nltk_data...\n",
      "[nltk_data]   Package punkt is already up-to-date!\n"
     ]
    }
   ],
   "source": [
    "from collections import Counter\n",
    "import numpy as np\n",
    "import pandas as pd\n",
    "import tensorflow as tf\n",
    "from tensorflow import keras\n",
    "\n",
    "import seaborn as sns\n",
    "import matplotlib.pyplot as plt\n",
    "\n",
    "from sklearn.model_selection import train_test_split\n",
    "from sklearn.metrics import classification_report\n",
    "\n",
    "import random\n",
    "from tqdm import tqdm\n",
    "import nltk\n",
    "from nltk.corpus import wordnet\n",
    "\n",
    "# Download the WordNet corpus\n",
    "nltk.download('wordnet')\n",
    "nltk.download('punkt')\n",
    "from nltk.tokenize import sent_tokenize"
   ]
  },
  {
   "cell_type": "code",
   "execution_count": 2,
   "id": "5963e184-99a0-498d-a49f-c3c226d79598",
   "metadata": {},
   "outputs": [],
   "source": [
    "seed = 7\n",
    "np.random.seed(seed)\n",
    "tf.random.set_seed(seed)"
   ]
  },
  {
   "cell_type": "code",
   "execution_count": 3,
   "id": "5cb754fd",
   "metadata": {},
   "outputs": [],
   "source": [
    "from transformers import BertTokenizer, TFBertModel\n",
    "from transformers import RobertaTokenizer, TFRobertaModel"
   ]
  },
  {
   "cell_type": "code",
   "execution_count": 4,
   "id": "7cd2f585",
   "metadata": {},
   "outputs": [],
   "source": [
    "max_length = 85\n",
    "MAX_SEQUENCE_LENGTH = 85\n",
    "BATCH_SIZE = 32"
   ]
  },
  {
   "cell_type": "code",
   "execution_count": 5,
   "id": "0317f177",
   "metadata": {},
   "outputs": [],
   "source": [
    "df = pd.read_csv(\"..//efcamdat_final.csv\")"
   ]
  },
  {
   "cell_type": "code",
   "execution_count": 6,
   "id": "5c089bed",
   "metadata": {},
   "outputs": [],
   "source": [
    "df['labels'] = df['cefr_numeric'].apply(lambda x: x-1)"
   ]
  },
  {
   "cell_type": "code",
   "execution_count": 7,
   "id": "dfb96d36-67ff-4044-9ca5-b1ff06c57611",
   "metadata": {},
   "outputs": [],
   "source": [
    "df[df['labels'] == 5] = 4"
   ]
  },
  {
   "cell_type": "code",
   "execution_count": 8,
   "id": "1ebad2f9",
   "metadata": {},
   "outputs": [],
   "source": [
    "text = df['text']\n",
    "labels = df['labels']"
   ]
  },
  {
   "cell_type": "code",
   "execution_count": 9,
   "id": "6495e718",
   "metadata": {},
   "outputs": [],
   "source": [
    "train_df, test_df = train_test_split(df, test_size=.1, shuffle=True)"
   ]
  },
  {
   "cell_type": "code",
   "execution_count": 10,
   "id": "065a84dd",
   "metadata": {},
   "outputs": [
    {
     "data": {
      "text/plain": [
       "315675"
      ]
     },
     "execution_count": 10,
     "metadata": {},
     "output_type": "execute_result"
    }
   ],
   "source": [
    "len(train_df)"
   ]
  },
  {
   "cell_type": "code",
   "execution_count": 11,
   "id": "6a42c514",
   "metadata": {},
   "outputs": [],
   "source": [
    "valid_df = train_df.iloc[:34000].copy()\n",
    "train_df = train_df.iloc[34000:]"
   ]
  },
  {
   "cell_type": "code",
   "execution_count": 12,
   "id": "0178e5d2",
   "metadata": {},
   "outputs": [],
   "source": [
    "def clip_words(text, num_words=5):\n",
    "    text = str(text)\n",
    "    words = text.split()\n",
    "    if len(words) > 2 * num_words:\n",
    "        return ' '.join(words[num_words:-num_words])\n",
    "    else:\n",
    "        # If the text has fewer than 2 * num_words, return an empty string or handle accordingly\n",
    "        return text"
   ]
  },
  {
   "cell_type": "code",
   "execution_count": 13,
   "id": "f6445621",
   "metadata": {},
   "outputs": [],
   "source": [
    "train_df['text_clipped'] = train_df['text'].apply(clip_words)"
   ]
  },
  {
   "cell_type": "code",
   "execution_count": 14,
   "id": "3b29bad2",
   "metadata": {},
   "outputs": [],
   "source": [
    "train_df['text_clipped'] = train_df['text_clipped'].apply(lambda x: str(x))"
   ]
  },
  {
   "cell_type": "code",
   "execution_count": 15,
   "id": "9253a7d3",
   "metadata": {},
   "outputs": [],
   "source": [
    "def synonym_replacement(text):\n",
    "    words = text.split()\n",
    "    new_words = []\n",
    "    \n",
    "    for word in words:\n",
    "        synonyms = wordnet.synsets(word)\n",
    "        if synonyms:\n",
    "            synonym = random.choice(synonyms).lemmas()[0].name()\n",
    "            new_words.append(synonym if synonym != word else word)\n",
    "        else:\n",
    "            new_words.append(word)\n",
    "    \n",
    "    return ' '.join(new_words)\n",
    "\n",
    "def random_insertion(text):\n",
    "    words = text.split()\n",
    "    new_words = words.copy()\n",
    "    synonyms = [wordnet.synsets(word)[0].lemmas()[0].name() for word in words if wordnet.synsets(word)]\n",
    "    \n",
    "    num_insertions = random.randint(1, 3)\n",
    "    for _ in range(num_insertions):\n",
    "        insert_word = random.choice(synonyms) if synonyms else random.choice(words)\n",
    "        position = random.randint(0, len(new_words))\n",
    "        new_words.insert(position, insert_word)\n",
    "    \n",
    "    return ' '.join(new_words)\n",
    "\n",
    "def random_deletion(text, p=0.2):\n",
    "    words = text.split()\n",
    "    new_words = [word for word in words if random.random() > p]\n",
    "    return ' '.join(new_words) if new_words else words[0]\n",
    "\n",
    "def sentence_shuffling(text):\n",
    "    sentences = sent_tokenize(text)\n",
    "    if len(sentences) < 2:\n",
    "        return text\n",
    "    random.shuffle(sentences)\n",
    "    return ' '.join(sentences)\n",
    "\n",
    "def augment(text):\n",
    "    if random.random() > .4:\n",
    "        return text\n",
    "    else:\n",
    "        if random.random() < .5:\n",
    "            text = synonym_replacement(text)\n",
    "        if random.random() < .5: \n",
    "            text = random_insertion(text)\n",
    "        if random.random() < .5:\n",
    "            text = random_deletion(text, p=0.2)\n",
    "        if random.random() < .5: \n",
    "            text = sentence_shuffling(text)\n",
    "        return text \n"
   ]
  },
  {
   "cell_type": "code",
   "execution_count": 16,
   "id": "2fb93038",
   "metadata": {},
   "outputs": [
    {
     "name": "stderr",
     "output_type": "stream",
     "text": [
      "100%|████████████████████████████████████████████████████████████████████████| 281675/281675 [02:04<00:00, 2263.49it/s]\n"
     ]
    }
   ],
   "source": [
    "tqdm.pandas()\n",
    "train_df['text_clipped'] = train_df['text_clipped'].progress_apply(lambda x: augment(x))"
   ]
  },
  {
   "cell_type": "code",
   "execution_count": 17,
   "id": "31b156b0-f84d-461a-910a-aebe083759d9",
   "metadata": {},
   "outputs": [],
   "source": [
    "train_df.to_csv('../efcamdat_train_data.csv')\n",
    "valid_df.to_csv('../efcamdat_valid_data.csv')\n",
    "test_df.to_csv('../efcamdat_test_data.csv')"
   ]
  },
  {
   "cell_type": "markdown",
   "id": "9d47aa8e",
   "metadata": {},
   "source": [
    "## BERT"
   ]
  },
  {
   "cell_type": "code",
   "execution_count": 18,
   "id": "0187de62",
   "metadata": {},
   "outputs": [
    {
     "name": "stderr",
     "output_type": "stream",
     "text": [
      "Some weights of the PyTorch model were not used when initializing the TF 2.0 model TFBertModel: ['cls.seq_relationship.weight', 'cls.predictions.transform.dense.bias', 'cls.predictions.transform.LayerNorm.weight', 'cls.seq_relationship.bias', 'cls.predictions.transform.dense.weight', 'cls.predictions.transform.LayerNorm.bias', 'cls.predictions.bias']\n",
      "- This IS expected if you are initializing TFBertModel from a PyTorch model trained on another task or with another architecture (e.g. initializing a TFBertForSequenceClassification model from a BertForPreTraining model).\n",
      "- This IS NOT expected if you are initializing TFBertModel from a PyTorch model that you expect to be exactly identical (e.g. initializing a TFBertForSequenceClassification model from a BertForSequenceClassification model).\n",
      "All the weights of TFBertModel were initialized from the PyTorch model.\n",
      "If your task is similar to the task the model of the checkpoint was trained on, you can already use TFBertModel for predictions without further training.\n"
     ]
    }
   ],
   "source": [
    "bert_tokenizer = BertTokenizer.from_pretrained('bert-base-cased')\n",
    "bert_model = TFBertModel.from_pretrained('bert-base-cased')\n",
    "\n",
    "#tokenize text data for each split\n",
    "train_encodings = bert_tokenizer(train_df[\"text_clipped\"].tolist(), truncation=True, padding='max_length', max_length=MAX_SEQUENCE_LENGTH, return_tensors='tf')\n",
    "valid_encodings = bert_tokenizer([str(t) for t in valid_df[\"text\"].tolist()], truncation=True, padding='max_length', max_length=MAX_SEQUENCE_LENGTH, return_tensors='tf')\n",
    "test_encodings = bert_tokenizer([str(t) for t in test_df[\"text\"].tolist()], truncation=True, padding='max_length', max_length=MAX_SEQUENCE_LENGTH, return_tensors='tf')\n",
    "\n",
    "def create_dataset(encodings, labels):\n",
    "    dataset = tf.data.Dataset.from_tensor_slices((\n",
    "        {\n",
    "            'input_ids': encodings['input_ids'],\n",
    "            'token_type_ids': encodings['token_type_ids'],\n",
    "            'attention_mask': encodings['attention_mask']\n",
    "        },\n",
    "        labels\n",
    "    ))\n",
    "    return dataset\n",
    "\n",
    "#create TF datasest with encoding and labels\n",
    "train_dataset = create_dataset(train_encodings, train_df['labels'])\n",
    "valid_dataset = create_dataset(valid_encodings, valid_df['labels'])\n",
    "test_dataset = create_dataset(test_encodings, test_df['labels'])\n",
    "\n",
    "#batching\n",
    "train_dataset = train_dataset.shuffle(len(train_df)).batch(BATCH_SIZE)\n",
    "valid_dataset = valid_dataset.batch(BATCH_SIZE)\n",
    "test_dataset = test_dataset.batch(BATCH_SIZE)"
   ]
  },
  {
   "cell_type": "code",
   "execution_count": 19,
   "id": "0bede283",
   "metadata": {},
   "outputs": [],
   "source": [
    "def create_bert_classification_model(bert_model, num_classes=5, num_train_layers=0, hidden_size=200, dropout=0.5, learning_rate=0.00005):\n",
    "    if num_train_layers == 0:\n",
    "        bert_model.trainable = False\n",
    "    elif num_train_layers == 12:\n",
    "        bert_model.trainable = True\n",
    "    else:\n",
    "        retrain_layers = ['_' + str(11 - i) for i in range(num_train_layers)]\n",
    "        for w in bert_model.weights:\n",
    "            if not any([x in w.name for x in retrain_layers]):\n",
    "                w._trainable = False\n",
    "\n",
    "    input_ids = tf.keras.layers.Input(shape=(MAX_SEQUENCE_LENGTH,), dtype=tf.int64, name='input_ids')\n",
    "    token_type_ids = tf.keras.layers.Input(shape=(MAX_SEQUENCE_LENGTH,), dtype=tf.int64, name='token_type_ids')\n",
    "    attention_mask = tf.keras.layers.Input(shape=(MAX_SEQUENCE_LENGTH,), dtype=tf.int64, name='attention_mask')\n",
    "\n",
    "    bert_inputs = {'input_ids': input_ids, 'token_type_ids': token_type_ids, 'attention_mask': attention_mask}\n",
    "    bert_out = bert_model(bert_inputs)\n",
    "    pooler_token = bert_out[1]\n",
    "    hidden = tf.keras.layers.Dense(hidden_size, activation='relu', name='hidden_layer')(pooler_token)\n",
    "    hidden = tf.keras.layers.Dropout(dropout)(hidden)\n",
    "    classification = tf.keras.layers.Dense(num_classes, activation='softmax', name='classification_layer')(hidden)\n",
    "\n",
    "    classification_model = tf.keras.Model(inputs=[input_ids, token_type_ids, attention_mask], outputs=[classification])\n",
    "    classification_model.compile(optimizer=tf.keras.optimizers.Adam(learning_rate=learning_rate),\n",
    "                                 loss=tf.keras.losses.SparseCategoricalCrossentropy(from_logits=False),\n",
    "                                 metrics=['accuracy'])\n",
    "    return classification_model"
   ]
  },
  {
   "cell_type": "markdown",
   "id": "4cbedbfc-ce55-410e-aa5b-eb006425d608",
   "metadata": {},
   "source": [
    "### Untrainable"
   ]
  },
  {
   "cell_type": "code",
   "execution_count": 36,
   "id": "210d49cc-c157-450e-ad12-56e069e50733",
   "metadata": {},
   "outputs": [],
   "source": [
    "bert_classification_model_ut = create_bert_classification_model(bert_model, num_train_layers=0)"
   ]
  },
  {
   "cell_type": "code",
   "execution_count": 37,
   "id": "f602b009-2aa1-4be6-bae6-88fa2a8cdac2",
   "metadata": {},
   "outputs": [
    {
     "name": "stdout",
     "output_type": "stream",
     "text": [
      "Epoch 1/3\n",
      "8803/8803 [==============================] - 725s 81ms/step - loss: 1.0853 - accuracy: 0.5520 - val_loss: 0.9129 - val_accuracy: 0.6277\n",
      "Epoch 2/3\n",
      "8803/8803 [==============================] - 715s 81ms/step - loss: 0.9028 - accuracy: 0.6342 - val_loss: 0.8149 - val_accuracy: 0.6748\n",
      "Epoch 3/3\n",
      "8803/8803 [==============================] - 720s 82ms/step - loss: 0.8547 - accuracy: 0.6543 - val_loss: 0.7793 - val_accuracy: 0.6967\n"
     ]
    }
   ],
   "source": [
    "bert_classification_model_ut_history = bert_classification_model_ut.fit(\n",
    "    train_dataset,\n",
    "    validation_data=valid_dataset,\n",
    "    epochs=3,\n",
    ")"
   ]
  },
  {
   "cell_type": "code",
   "execution_count": 38,
   "id": "b2e56e57-f1ef-4baa-b8b9-a1a04d26752e",
   "metadata": {},
   "outputs": [
    {
     "name": "stdout",
     "output_type": "stream",
     "text": [
      "1097/1097 [==============================] - 75s 65ms/step\n",
      "              precision    recall  f1-score   support\n",
      "\n",
      "           0       0.87      0.75      0.80      9969\n",
      "           1       0.66      0.71      0.69      9947\n",
      "           2       0.61      0.82      0.70     10161\n",
      "           3       0.60      0.32      0.42      4033\n",
      "           4       0.00      0.00      0.00       965\n",
      "\n",
      "    accuracy                           0.69     35075\n",
      "   macro avg       0.55      0.52      0.52     35075\n",
      "weighted avg       0.68      0.69      0.67     35075\n",
      "\n"
     ]
    },
    {
     "name": "stderr",
     "output_type": "stream",
     "text": [
      "C:\\Users\\Danny Skahill\\miniconda3\\envs\\tf2\\lib\\site-packages\\sklearn\\metrics\\_classification.py:1509: UndefinedMetricWarning: Precision is ill-defined and being set to 0.0 in labels with no predicted samples. Use `zero_division` parameter to control this behavior.\n",
      "  _warn_prf(average, modifier, f\"{metric.capitalize()} is\", len(result))\n",
      "C:\\Users\\Danny Skahill\\miniconda3\\envs\\tf2\\lib\\site-packages\\sklearn\\metrics\\_classification.py:1509: UndefinedMetricWarning: Precision is ill-defined and being set to 0.0 in labels with no predicted samples. Use `zero_division` parameter to control this behavior.\n",
      "  _warn_prf(average, modifier, f\"{metric.capitalize()} is\", len(result))\n",
      "C:\\Users\\Danny Skahill\\miniconda3\\envs\\tf2\\lib\\site-packages\\sklearn\\metrics\\_classification.py:1509: UndefinedMetricWarning: Precision is ill-defined and being set to 0.0 in labels with no predicted samples. Use `zero_division` parameter to control this behavior.\n",
      "  _warn_prf(average, modifier, f\"{metric.capitalize()} is\", len(result))\n"
     ]
    }
   ],
   "source": [
    "preds = bert_classification_model_ut.predict(test_dataset)\n",
    "preds = tf.argmax(preds, axis=-1)\n",
    "print(classification_report(test_df['labels'], preds.numpy()))"
   ]
  },
  {
   "cell_type": "code",
   "execution_count": 39,
   "id": "7ea9e7b1-f06f-482e-9a17-3ef41ace1e12",
   "metadata": {},
   "outputs": [],
   "source": [
    "cm = tf.math.confusion_matrix(test_df['labels'], preds)\n",
    "cm = cm/cm.numpy().sum(axis=1)[:, tf.newaxis]"
   ]
  },
  {
   "cell_type": "code",
   "execution_count": 40,
   "id": "afbd213a-977a-43fa-977f-d23ce4a38e27",
   "metadata": {},
   "outputs": [
    {
     "data": {
      "text/plain": [
       "Text(220.72222222222223, 0.5, 'True')"
      ]
     },
     "execution_count": 40,
     "metadata": {},
     "output_type": "execute_result"
    },
    {
     "data": {
      "image/png": "[encoded data removed]",
      "text/plain": [
       "<Figure size 2000x700 with 2 Axes>"
      ]
     },
     "metadata": {},
     "output_type": "display_data"
    }
   ],
   "source": [
    "import matplotlib.pyplot as plt\n",
    "import seaborn as sns\n",
    "\n",
    "plt.figure(figsize=(20,7))\n",
    "sns.heatmap(\n",
    "    cm, annot=True)\n",
    "plt.xlabel(\"Predicted\")\n",
    "plt.ylabel(\"True\")"
   ]
  },
  {
   "cell_type": "markdown",
   "id": "4bd5ce81-2d41-4645-8721-fbc1872a1d9a",
   "metadata": {},
   "source": [
    "### Trainable"
   ]
  },
  {
   "cell_type": "code",
   "execution_count": 20,
   "id": "058b7c59",
   "metadata": {},
   "outputs": [],
   "source": [
    "bert_classification_model = create_bert_classification_model(bert_model, num_train_layers=12)"
   ]
  },
  {
   "cell_type": "code",
   "execution_count": 21,
   "id": "8a7544a5",
   "metadata": {},
   "outputs": [
    {
     "name": "stdout",
     "output_type": "stream",
     "text": [
      "Model: \"model\"\n",
      "__________________________________________________________________________________________________\n",
      " Layer (type)                   Output Shape         Param #     Connected to                     \n",
      "==================================================================================================\n",
      " attention_mask (InputLayer)    [(None, 85)]         0           []                               \n",
      "                                                                                                  \n",
      " input_ids (InputLayer)         [(None, 85)]         0           []                               \n",
      "                                                                                                  \n",
      " token_type_ids (InputLayer)    [(None, 85)]         0           []                               \n",
      "                                                                                                  \n",
      " tf_bert_model (TFBertModel)    TFBaseModelOutputWi  108310272   ['attention_mask[0][0]',         \n",
      "                                thPoolingAndCrossAt               'input_ids[0][0]',              \n",
      "                                tentions(last_hidde               'token_type_ids[0][0]']         \n",
      "                                n_state=(None, 85,                                                \n",
      "                                768),                                                             \n",
      "                                 pooler_output=(Non                                               \n",
      "                                e, 768),                                                          \n",
      "                                 past_key_values=No                                               \n",
      "                                ne, hidden_states=N                                               \n",
      "                                one, attentions=Non                                               \n",
      "                                e, cross_attentions                                               \n",
      "                                =None)                                                            \n",
      "                                                                                                  \n",
      " hidden_layer (Dense)           (None, 200)          153800      ['tf_bert_model[0][1]']          \n",
      "                                                                                                  \n",
      " dropout_37 (Dropout)           (None, 200)          0           ['hidden_layer[0][0]']           \n",
      "                                                                                                  \n",
      " classification_layer (Dense)   (None, 5)            1005        ['dropout_37[0][0]']             \n",
      "                                                                                                  \n",
      "==================================================================================================\n",
      "Total params: 108,465,077\n",
      "Trainable params: 108,465,077\n",
      "Non-trainable params: 0\n",
      "__________________________________________________________________________________________________\n"
     ]
    }
   ],
   "source": [
    "bert_classification_model.summary()"
   ]
  },
  {
   "cell_type": "code",
   "execution_count": 22,
   "id": "11c7a95e",
   "metadata": {},
   "outputs": [
    {
     "name": "stdout",
     "output_type": "stream",
     "text": [
      "8803/8803 [==============================] - 2122s 239ms/step - loss: 0.1533 - accuracy: 0.9488 - val_loss: 0.0794 - val_accuracy: 0.9734\n"
     ]
    }
   ],
   "source": [
    "bert_classification_model_history = bert_classification_model.fit(\n",
    "    train_dataset,\n",
    "    validation_data=valid_dataset,\n",
    "    epochs=1,\n",
    ")"
   ]
  },
  {
   "cell_type": "code",
   "execution_count": 23,
   "id": "d334018b-2f35-4eca-80d6-196d04593bc1",
   "metadata": {},
   "outputs": [
    {
     "name": "stdout",
     "output_type": "stream",
     "text": [
      "1097/1097 [==============================] - 98s 86ms/step\n",
      "              precision    recall  f1-score   support\n",
      "\n",
      "           0       0.99      0.99      0.99      9969\n",
      "           1       0.99      0.98      0.99      9947\n",
      "           2       0.97      0.96      0.96     10161\n",
      "           3       0.90      0.96      0.93      4033\n",
      "           4       0.86      0.87      0.86       965\n",
      "\n",
      "    accuracy                           0.97     35075\n",
      "   macro avg       0.94      0.95      0.95     35075\n",
      "weighted avg       0.97      0.97      0.97     35075\n",
      "\n"
     ]
    }
   ],
   "source": [
    "preds = bert_classification_model.predict(test_dataset)\n",
    "preds = tf.argmax(preds, axis=-1)\n",
    "print(classification_report(test_df['labels'], preds.numpy()))"
   ]
  },
  {
   "cell_type": "code",
   "execution_count": 24,
   "id": "c86de458-5705-49a5-b0e8-b05c8622aa17",
   "metadata": {},
   "outputs": [],
   "source": [
    "cm = tf.math.confusion_matrix(test_df['labels'], preds)\n",
    "cm = cm/cm.numpy().sum(axis=1)[:, tf.newaxis]"
   ]
  },
  {
   "cell_type": "code",
   "execution_count": 25,
   "id": "151a61f8-ecb3-4754-8f1d-e007c3cbf98b",
   "metadata": {},
   "outputs": [
    {
     "data": {
      "text/plain": [
       "Text(220.72222222222223, 0.5, 'True')"
      ]
     },
     "execution_count": 25,
     "metadata": {},
     "output_type": "execute_result"
    },
    {
     "data": {
      "image/png": "[encoded data removed]",
      "text/plain": [
       "<Figure size 2000x700 with 2 Axes>"
      ]
     },
     "metadata": {},
     "output_type": "display_data"
    }
   ],
   "source": [
    "plt.figure(figsize=(20,7))\n",
    "sns.heatmap(\n",
    "    cm, annot=True)\n",
    "plt.xlabel(\"Predicted\")\n",
    "plt.ylabel(\"True\")"
   ]
  },
  {
   "cell_type": "code",
   "execution_count": 47,
   "id": "27ddf575-101f-4594-851c-610b84a08c99",
   "metadata": {},
   "outputs": [],
   "source": [
    "bert_classification_model.save(\"bert_model_final.keras\")"
   ]
  },
  {
   "cell_type": "markdown",
   "id": "50520694",
   "metadata": {},
   "source": [
    "## RoBERTa"
   ]
  },
  {
   "cell_type": "code",
   "execution_count": 18,
   "id": "099dd706",
   "metadata": {},
   "outputs": [
    {
     "name": "stderr",
     "output_type": "stream",
     "text": [
      "Some weights of the PyTorch model were not used when initializing the TF 2.0 model TFRobertaModel: ['lm_head.layer_norm.weight', 'lm_head.bias', 'lm_head.layer_norm.bias', 'roberta.embeddings.position_ids', 'lm_head.dense.bias', 'lm_head.dense.weight']\n",
      "- This IS expected if you are initializing TFRobertaModel from a PyTorch model trained on another task or with another architecture (e.g. initializing a TFBertForSequenceClassification model from a BertForPreTraining model).\n",
      "- This IS NOT expected if you are initializing TFRobertaModel from a PyTorch model that you expect to be exactly identical (e.g. initializing a TFBertForSequenceClassification model from a BertForSequenceClassification model).\n",
      "Some weights or buffers of the TF 2.0 model TFRobertaModel were not initialized from the PyTorch model and are newly initialized: ['roberta.pooler.dense.weight', 'roberta.pooler.dense.bias']\n",
      "You should probably TRAIN this model on a down-stream task to be able to use it for predictions and inference.\n"
     ]
    }
   ],
   "source": [
    "rtokenizer = RobertaTokenizer.from_pretrained('roberta-base')\n",
    "roberta_model = TFRobertaModel.from_pretrained('roberta-base')\n",
    "\n",
    "train_encodings = rtokenizer(train_df[\"text_clipped\"].tolist(), truncation=True, padding=True, max_length=max_length, return_tensors='tf')\n",
    "valid_encodings = rtokenizer([str(t) for t in valid_df[\"text\"].tolist()], truncation=True, padding=True, max_length=max_length, return_tensors='tf')\n",
    "\n",
    "train_dataset = tf.data.Dataset.from_tensor_slices(({\"input_ids_layer\": train_encodings.input_ids, \"attention_mask_layer\": train_encodings.attention_mask}, train_df['labels']))\n",
    "train_dataset = train_dataset.batch(32).prefetch(tf.data.experimental.AUTOTUNE)\n",
    "\n",
    "valid_dataset = tf.data.Dataset.from_tensor_slices(({\"input_ids_layer\": valid_encodings.input_ids, \"attention_mask_layer\": valid_encodings.attention_mask}, valid_df['labels']))\n",
    "valid_dataset = valid_dataset.batch(32).prefetch(tf.data.experimental.AUTOTUNE)"
   ]
  },
  {
   "cell_type": "code",
   "execution_count": 19,
   "id": "10c4c0bd",
   "metadata": {},
   "outputs": [],
   "source": [
    "def create_roberta_cl_model(model,\n",
    "                         num_classes = 5,\n",
    "                         dropout=0.3,\n",
    "                         learning_rate=0.0001):\n",
    "    \"\"\"\n",
    "    \"\"\"\n",
    "    model.trainable = False\n",
    "\n",
    "    #tf.keras.mixed_precision.set_global_policy('mixed_float16')\n",
    "\n",
    "    input_ids = tf.keras.layers.Input(shape=(None,), dtype=tf.int64, name='input_ids_layer')\n",
    "    #token_type_ids = tf.keras.layers.Input(shape=(300,), dtype=tf.int32, name='token_type_ids_layer')\n",
    "    attention_mask = tf.keras.layers.Input(shape=(None,), dtype=tf.int64, name='attention_mask_layer')\n",
    "\n",
    "    model_inputs = [input_ids, attention_mask]\n",
    "    model_out = model(input_ids=input_ids, attention_mask=attention_mask)\n",
    "\n",
    "    model_out = model_out.last_hidden_state\n",
    "\n",
    "    conv = tf.keras.layers.Conv1D(filters=256, kernel_size=3, activation='relu')(model_out)\n",
    "    conv = tf.keras.layers.MaxPooling1D(pool_size=2)(conv)\n",
    "    conv = tf.keras.layers.Dropout(dropout)(conv)\n",
    "    lstm = tf.keras.layers.LSTM(units=256, return_sequences=False, return_state=False)(conv)\n",
    "    lstm = tf.keras.layers.Dropout(dropout)(lstm)\n",
    "    # dense = tf.keras.layers.Dense(256, activation='relu')(lstm)\n",
    "\n",
    "    classification = tf.keras.layers.Dense(num_classes, activation='softmax',name='classification_layer')(lstm)\n",
    "\n",
    "    classification_model = tf.keras.Model(inputs=[input_ids, attention_mask], outputs=[classification])\n",
    "\n",
    "    optimizer = tf.keras.optimizers.Adam(learning_rate=learning_rate, clipnorm=0.1)\n",
    "    optimizer = tf.keras.mixed_precision.LossScaleOptimizer(optimizer)\n",
    "\n",
    "    classification_model.compile(optimizer=optimizer,\n",
    "                                 loss=tf.keras.losses.SparseCategoricalCrossentropy(from_logits=False),\n",
    "                                 metrics='accuracy')\n",
    "\n",
    "    return classification_model"
   ]
  },
  {
   "cell_type": "code",
   "execution_count": 20,
   "id": "52fcc694",
   "metadata": {},
   "outputs": [],
   "source": [
    "roberta_cl_model = create_roberta_cl_model(model=roberta_model, num_classes=6)"
   ]
  },
  {
   "cell_type": "code",
   "execution_count": 21,
   "id": "99d3c24c",
   "metadata": {},
   "outputs": [
    {
     "name": "stdout",
     "output_type": "stream",
     "text": [
      "Model: \"model\"\n",
      "__________________________________________________________________________________________________\n",
      " Layer (type)                   Output Shape         Param #     Connected to                     \n",
      "==================================================================================================\n",
      " input_ids_layer (InputLayer)   [(None, None)]       0           []                               \n",
      "                                                                                                  \n",
      " attention_mask_layer (InputLay  [(None, None)]      0           []                               \n",
      " er)                                                                                              \n",
      "                                                                                                  \n",
      " tf_roberta_model (TFRobertaMod  TFBaseModelOutputWi  124645632  ['input_ids_layer[0][0]',        \n",
      " el)                            thPoolingAndCrossAt               'attention_mask_layer[0][0]']   \n",
      "                                tentions(last_hidde                                               \n",
      "                                n_state=(None, None                                               \n",
      "                                , 768),                                                           \n",
      "                                 pooler_output=(Non                                               \n",
      "                                e, 768),                                                          \n",
      "                                 past_key_values=No                                               \n",
      "                                ne, hidden_states=N                                               \n",
      "                                one, attentions=Non                                               \n",
      "                                e, cross_attentions                                               \n",
      "                                =None)                                                            \n",
      "                                                                                                  \n",
      " conv1d (Conv1D)                (None, None, 256)    590080      ['tf_roberta_model[0][0]']       \n",
      "                                                                                                  \n",
      " max_pooling1d (MaxPooling1D)   (None, None, 256)    0           ['conv1d[0][0]']                 \n",
      "                                                                                                  \n",
      " dropout_37 (Dropout)           (None, None, 256)    0           ['max_pooling1d[0][0]']          \n",
      "                                                                                                  \n",
      " lstm (LSTM)                    (None, 256)          525312      ['dropout_37[0][0]']             \n",
      "                                                                                                  \n",
      " dropout_38 (Dropout)           (None, 256)          0           ['lstm[0][0]']                   \n",
      "                                                                                                  \n",
      " classification_layer (Dense)   (None, 6)            1542        ['dropout_38[0][0]']             \n",
      "                                                                                                  \n",
      "==================================================================================================\n",
      "Total params: 125,762,566\n",
      "Trainable params: 1,116,934\n",
      "Non-trainable params: 124,645,632\n",
      "__________________________________________________________________________________________________\n"
     ]
    }
   ],
   "source": [
    "roberta_cl_model.summary()"
   ]
  },
  {
   "cell_type": "code",
   "execution_count": 22,
   "id": "f24b1bff",
   "metadata": {},
   "outputs": [
    {
     "name": "stdout",
     "output_type": "stream",
     "text": [
      "Epoch 1/5\n",
      "8803/8803 [==============================] - 1083s 121ms/step - loss: 0.2898 - accuracy: 0.8945 - val_loss: 0.1378 - val_accuracy: 0.9532\n",
      "Epoch 2/5\n",
      "8803/8803 [==============================] - 1064s 121ms/step - loss: 0.1607 - accuracy: 0.9449 - val_loss: 0.1163 - val_accuracy: 0.9611\n",
      "Epoch 3/5\n",
      "8803/8803 [==============================] - 1020s 116ms/step - loss: 0.1308 - accuracy: 0.9568 - val_loss: 0.1294 - val_accuracy: 0.9610\n",
      "Epoch 4/5\n",
      "8803/8803 [==============================] - 1037s 118ms/step - loss: 0.1166 - accuracy: 0.9626 - val_loss: 0.1051 - val_accuracy: 0.9699\n",
      "Epoch 5/5\n",
      "8803/8803 [==============================] - 1100s 125ms/step - loss: 0.1092 - accuracy: 0.9659 - val_loss: 0.0959 - val_accuracy: 0.9697\n"
     ]
    }
   ],
   "source": [
    "roberta_cl_model_history = roberta_cl_model.fit(train_dataset,\n",
    "                                      validation_data=valid_dataset,\n",
    "                                      epochs=5)"
   ]
  },
  {
   "cell_type": "code",
   "execution_count": 23,
   "id": "b3b87a78",
   "metadata": {},
   "outputs": [],
   "source": [
    "test_encodings = rtokenizer([str(t) for t in test_df[\"text\"].tolist()], truncation=True, padding=True, max_length=max_length, return_tensors='tf')\n",
    "tdataset = tf.data.Dataset.from_tensor_slices(({\"input_ids_layer\": test_encodings.input_ids, \"attention_mask_layer\": test_encodings.attention_mask}, test_df['labels']))\n",
    "tdataset = tdataset.batch(32).prefetch(tf.data.experimental.AUTOTUNE)"
   ]
  },
  {
   "cell_type": "code",
   "execution_count": 24,
   "id": "0ddbd930",
   "metadata": {},
   "outputs": [
    {
     "name": "stdout",
     "output_type": "stream",
     "text": [
      "1097/1097 [==============================] - 109s 97ms/step\n",
      "              precision    recall  f1-score   support\n",
      "\n",
      "           0       0.99      0.99      0.99      9969\n",
      "           1       0.99      0.97      0.98      9947\n",
      "           2       0.97      0.95      0.96     10161\n",
      "           3       0.88      0.96      0.92      4033\n",
      "           4       0.93      0.79      0.85       965\n",
      "\n",
      "    accuracy                           0.97     35075\n",
      "   macro avg       0.95      0.93      0.94     35075\n",
      "weighted avg       0.97      0.97      0.97     35075\n",
      "\n"
     ]
    }
   ],
   "source": [
    "preds = roberta_cl_model.predict(tdataset)\n",
    "preds = tf.argmax(preds, axis=-1)\n",
    "print(classification_report(test_df['labels'], preds.numpy()))"
   ]
  },
  {
   "cell_type": "code",
   "execution_count": 25,
   "id": "092ec1e0",
   "metadata": {},
   "outputs": [],
   "source": [
    "cm = tf.math.confusion_matrix(test_df['labels'], preds)\n",
    "cm = cm/cm.numpy().sum(axis=1)[:, tf.newaxis]"
   ]
  },
  {
   "cell_type": "code",
   "execution_count": 26,
   "id": "5d90cc86",
   "metadata": {},
   "outputs": [
    {
     "data": {
      "text/plain": [
       "Text(220.72222222222223, 0.5, 'True')"
      ]
     },
     "execution_count": 26,
     "metadata": {},
     "output_type": "execute_result"
    },
    {
     "data": {
      "image/png": "[encoded data removed]",
      "text/plain": [
       "<Figure size 2000x700 with 2 Axes>"
      ]
     },
     "metadata": {},
     "output_type": "display_data"
    }
   ],
   "source": [
    "import matplotlib.pyplot as plt\n",
    "import seaborn as sns\n",
    "\n",
    "plt.figure(figsize=(20,7))\n",
    "sns.heatmap(\n",
    "    cm, annot=True)\n",
    "plt.xlabel(\"Predicted\")\n",
    "plt.ylabel(\"True\")"
   ]
  },
  {
   "cell_type": "code",
   "execution_count": 27,
   "id": "aebc20c3-0155-45c0-b562-95ba1f632548",
   "metadata": {},
   "outputs": [],
   "source": [
    "roberta_cl_model.save(\"roberta_model_final.keras\")"
   ]
  },
  {
   "cell_type": "markdown",
   "id": "a7311bd7-2e9c-4bee-8a7e-9f4c90e8e546",
   "metadata": {},
   "source": [
    "## RoBERTa + CNN + GRU"
   ]
  },
  {
   "cell_type": "code",
   "execution_count": 28,
   "id": "8c6b98c3-e90d-49d3-b62c-b0750ba26f4c",
   "metadata": {},
   "outputs": [],
   "source": [
    "def create_roberta_gru_model(model,\n",
    "                         num_classes = 6,\n",
    "                         dropout=0.3,\n",
    "                         learning_rate=0.0001):\n",
    "    \"\"\"\n",
    "    \"\"\"\n",
    "    model.trainable = False\n",
    "\n",
    "    tf.keras.mixed_precision.set_global_policy('mixed_float16')\n",
    "\n",
    "    input_ids = tf.keras.layers.Input(shape=(None,), dtype=tf.int64, name='input_ids_layer')\n",
    "    #token_type_ids = tf.keras.layers.Input(shape=(300,), dtype=tf.int32, name='token_type_ids_layer')\n",
    "    attention_mask = tf.keras.layers.Input(shape=(None,), dtype=tf.int64, name='attention_mask_layer')\n",
    "\n",
    "    model_inputs = [input_ids, attention_mask]\n",
    "    model_out = model(input_ids=input_ids, attention_mask=attention_mask)\n",
    "\n",
    "    model_out = model_out.last_hidden_state\n",
    "\n",
    "    conv = tf.keras.layers.Conv1D(filters=256, kernel_size=3, activation='relu')(model_out)\n",
    "    conv = tf.keras.layers.MaxPooling1D(pool_size=2)(conv)\n",
    "    conv = tf.keras.layers.Dropout(dropout)(conv)\n",
    "    gru = tf.keras.layers.GRU(256)(conv)\n",
    "\n",
    "    classification = tf.keras.layers.Dense(num_classes, activation='softmax',name='classification_layer')(gru)\n",
    "\n",
    "    classification_model = tf.keras.Model(inputs=[input_ids, attention_mask], outputs=[classification])\n",
    "\n",
    "    optimizer = tf.keras.optimizers.Adam(learning_rate=learning_rate, clipnorm=0.1)\n",
    "    optimizer = tf.keras.mixed_precision.LossScaleOptimizer(optimizer)\n",
    "\n",
    "    classification_model.compile(optimizer=optimizer,\n",
    "                                 loss=tf.keras.losses.SparseCategoricalCrossentropy(from_logits=False),\n",
    "                                 metrics='accuracy')\n",
    "\n",
    "    return classification_model"
   ]
  },
  {
   "cell_type": "code",
   "execution_count": 29,
   "id": "6d93e9a8-dad0-4fc3-9cb6-8e0f39faaab6",
   "metadata": {},
   "outputs": [
    {
     "name": "stdout",
     "output_type": "stream",
     "text": [
      "INFO:tensorflow:Mixed precision compatibility check (mixed_float16): OK\n",
      "Your GPU will likely run quickly with dtype policy mixed_float16 as it has compute capability of at least 7.0. Your GPU: NVIDIA GeForce RTX 3060 Ti, compute capability 8.6\n"
     ]
    }
   ],
   "source": [
    "roberta_gru_model = create_roberta_gru_model(model=roberta_model, num_classes=6)"
   ]
  },
  {
   "cell_type": "code",
   "execution_count": 30,
   "id": "59e35b1d-3fe8-4cc8-a2c0-36754c325534",
   "metadata": {},
   "outputs": [
    {
     "name": "stdout",
     "output_type": "stream",
     "text": [
      "Epoch 1/3\n",
      "8803/8803 [==============================] - 1043s 117ms/step - loss: 0.2893 - accuracy: 0.8921 - val_loss: 0.1325 - val_accuracy: 0.9555\n",
      "Epoch 2/3\n",
      "8803/8803 [==============================] - 987s 112ms/step - loss: 0.1521 - accuracy: 0.9468 - val_loss: 0.1000 - val_accuracy: 0.9657\n",
      "Epoch 3/3\n",
      "8803/8803 [==============================] - 985s 112ms/step - loss: 0.1215 - accuracy: 0.9586 - val_loss: 0.0870 - val_accuracy: 0.9710\n"
     ]
    }
   ],
   "source": [
    "roberta_gru_model_history = roberta_gru_model.fit(train_dataset,\n",
    "                                      validation_data=valid_dataset,\n",
    "                                      epochs=3)"
   ]
  },
  {
   "cell_type": "code",
   "execution_count": 31,
   "id": "ae8992c8-163b-419f-a3fd-4116dfaec7db",
   "metadata": {},
   "outputs": [
    {
     "name": "stdout",
     "output_type": "stream",
     "text": [
      "1097/1097 [==============================] - 98s 86ms/step\n",
      "              precision    recall  f1-score   support\n",
      "\n",
      "           0       0.98      1.00      0.99      9969\n",
      "           1       0.99      0.98      0.98      9947\n",
      "           2       0.97      0.95      0.96     10161\n",
      "           3       0.90      0.95      0.92      4033\n",
      "           4       0.91      0.84      0.87       965\n",
      "\n",
      "    accuracy                           0.97     35075\n",
      "   macro avg       0.95      0.94      0.95     35075\n",
      "weighted avg       0.97      0.97      0.97     35075\n",
      "\n"
     ]
    }
   ],
   "source": [
    "preds = roberta_gru_model.predict(tdataset)\n",
    "preds = tf.argmax(preds, axis=-1)\n",
    "print(classification_report(test_df['labels'], preds.numpy()))"
   ]
  },
  {
   "cell_type": "code",
   "execution_count": 32,
   "id": "591fdd99-3c55-437e-bf3c-a9915649ef90",
   "metadata": {},
   "outputs": [
    {
     "data": {
      "text/plain": [
       "Text(220.72222222222223, 0.5, 'True')"
      ]
     },
     "execution_count": 32,
     "metadata": {},
     "output_type": "execute_result"
    },
    {
     "data": {
      "image/png": "[encoded data removed]",
      "text/plain": [
       "<Figure size 2000x700 with 2 Axes>"
      ]
     },
     "metadata": {},
     "output_type": "display_data"
    }
   ],
   "source": [
    "cm = tf.math.confusion_matrix(test_df['labels'], preds)\n",
    "cm = cm/cm.numpy().sum(axis=1)[:, tf.newaxis]\n",
    "\n",
    "plt.figure(figsize=(20,7))\n",
    "sns.heatmap(\n",
    "    cm, annot=True)\n",
    "plt.xlabel(\"Predicted\")\n",
    "plt.ylabel(\"True\")"
   ]
  },
  {
   "cell_type": "code",
   "execution_count": 33,
   "id": "88a80f12-731d-40c4-b2a4-c2879637a430",
   "metadata": {},
   "outputs": [],
   "source": [
    "roberta_gru_model.save(\"roberta_gru_model.keras\")"
   ]
  }
 ],
 "metadata": {
  "kernelspec": {
   "display_name": "Python 3 (ipykernel)",
   "language": "python",
   "name": "python3"
  },
  "language_info": {
   "codemirror_mode": {
    "name": "ipython",
    "version": 3
   },
   "file_extension": ".py",
   "mimetype": "text/x-python",
   "name": "python",
   "nbconvert_exporter": "python",
   "pygments_lexer": "ipython3",
   "version": "3.9.18"
  }
 },
 "nbformat": 4,
 "nbformat_minor": 5
}
