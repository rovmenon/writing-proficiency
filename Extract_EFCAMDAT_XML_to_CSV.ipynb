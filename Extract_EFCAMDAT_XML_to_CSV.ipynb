{
 "cells": [
  {
   "cell_type": "code",
   "execution_count": 3,
   "id": "01bf87d6",
   "metadata": {},
   "outputs": [],
   "source": [
    "from tqdm import tqdm\n",
    "from bs4.element import Tag\n",
    "from bs4 import BeautifulSoup as bs\n",
    "from os.path import splitext\n",
    "from time import time\n",
    "import datetime\n",
    "import pandas as pd\n",
    "import os"
   ]
  },
  {
   "cell_type": "code",
   "execution_count": null,
   "id": "745f45ee",
   "metadata": {},
   "outputs": [],
   "source": [
    "xml_file = 'EFCAMDAT_Database.xml' "
   ]
  },
  {
   "cell_type": "markdown",
   "id": "2bd4fc25",
   "metadata": {},
   "source": [
    "## Extract the XML file to CSV"
   ]
  },
  {
   "cell_type": "code",
   "execution_count": null,
   "id": "ff65433f",
   "metadata": {},
   "outputs": [],
   "source": [
    "from tqdm import tqdm\n",
    "from bs4.element import Tag\n",
    "from bs4 import BeautifulSoup as bs\n",
    "from os.path import splitext\n",
    "from time import time\n",
    "import datetime\n",
    "\n",
    "\n",
    "def parse_xml_to_df(xml_path):\n",
    "    with open(xml_path, \"r\", encoding=\"utf-8\") as file:\n",
    "        content = file.read()\n",
    "\n",
    "    # Parse the cleaned XML content\n",
    "    soup = bs(content, \"lxml\")\n",
    "    \n",
    "    data = []\n",
    "    # Extracting data from the XML\n",
    "    for writing in tqdm(soup.find_all(\"writing\")):\n",
    "        row = {}\n",
    "        \n",
    "        if writing.has_attr('id'):\n",
    "            row['id'] = writing['id']\n",
    "        if writing.has_attr('level'):\n",
    "            row['level'] = writing['level']\n",
    "        if writing.has_attr('unit'):\n",
    "            row['unit'] = writing['unit']\n",
    "        \n",
    "        learner = writing.find('learner')\n",
    "        if learner:\n",
    "            if learner.has_attr('id'):\n",
    "                row['learner_id'] = learner['id']\n",
    "            if learner.has_attr('nationality'):\n",
    "                row['learner_nationality'] = learner['nationality']\n",
    "        \n",
    "        grade = writing.find('grade')\n",
    "        if grade:\n",
    "            row['grade'] = grade.text\n",
    "        \n",
    "        date = writing.find('date')\n",
    "        if date:\n",
    "            row['date'] = date.text\n",
    "        \n",
    "        topic = writing.find('topic')\n",
    "        if topic and topic.has_attr('id'):\n",
    "            row['topic_id'] = topic['id']\n",
    "        \n",
    "        text = writing.find('text')\n",
    "        if text:\n",
    "            row['text'] = text.get_text(separator=' ', strip=True)\n",
    "        \n",
    "        data.append(row)\n",
    "    \n",
    "    # Creating DataFrame\n",
    "    df = pd.DataFrame(data)\n",
    "    return df\n",
    "\n",
    "df = parse_xml_to_df(xml_file)\n",
    "print(df.head())"
   ]
  },
  {
   "cell_type": "markdown",
   "id": "b8898f4e",
   "metadata": {},
   "source": [
    "## Use CEFR numeric rubric for classifications"
   ]
  },
  {
   "cell_type": "code",
   "execution_count": null,
   "id": "6bb184ac",
   "metadata": {},
   "outputs": [],
   "source": [
    "def cefr_score(x):\n",
    "    x = int(x)\n",
    "    if 1 <= x <= 3:\n",
    "        return 1\n",
    "    elif 4 <= x <= 6:\n",
    "        return 2\n",
    "    elif 7 <= x <= 9:\n",
    "        return 3\n",
    "    elif 10 <= x <= 12:\n",
    "        return 4\n",
    "    elif 13 <= x <= 15:\n",
    "        return 5\n",
    "    else:\n",
    "        return 6"
   ]
  },
  {
   "cell_type": "code",
   "execution_count": null,
   "id": "6d2ba3b6",
   "metadata": {},
   "outputs": [],
   "source": [
    "df['cefr_numeric'] = df['level'].apply(lambda x: cefr_score(x))"
   ]
  },
  {
   "cell_type": "code",
   "execution_count": null,
   "id": "f015f391",
   "metadata": {},
   "outputs": [],
   "source": [
    "df['cefr_numeric'].value_counts()"
   ]
  },
  {
   "cell_type": "code",
   "execution_count": null,
   "id": "93b0f9e2",
   "metadata": {},
   "outputs": [],
   "source": [
    "def group_cefr(x):\n",
    "    if x < 3:\n",
    "        return 1\n",
    "    elif 3 <= x < 5:\n",
    "        return 2\n",
    "    else:\n",
    "        return 3"
   ]
  },
  {
   "cell_type": "code",
   "execution_count": null,
   "id": "193bbfff",
   "metadata": {},
   "outputs": [],
   "source": [
    "df['cefr_grouped'] = df['cefr_numeric'].apply(lambda x: group_cefr(x))"
   ]
  },
  {
   "cell_type": "markdown",
   "id": "0ea68274",
   "metadata": {},
   "source": [
    "## Save to CSV"
   ]
  },
  {
   "cell_type": "code",
   "execution_count": 6,
   "id": "4342e0b5",
   "metadata": {},
   "outputs": [],
   "source": [
    "df.to_csv(\"efcamdat_full.csv\")"
   ]
  },
  {
   "cell_type": "markdown",
   "id": "bacc68eb",
   "metadata": {},
   "source": [
    "## Brief EDA"
   ]
  },
  {
   "cell_type": "code",
   "execution_count": 14,
   "id": "8271abb2",
   "metadata": {},
   "outputs": [],
   "source": [
    "df = pd.read_csv(\"efcamdat_full.csv\")"
   ]
  },
  {
   "cell_type": "code",
   "execution_count": 8,
   "id": "0cceb97d",
   "metadata": {},
   "outputs": [
    {
     "data": {
      "text/plain": [
       "1    625985\n",
       "2    307996\n",
       "3    168361\n",
       "4     61329\n",
       "5     14698\n",
       "6      1940\n",
       "Name: cefr_numeric, dtype: int64"
      ]
     },
     "execution_count": 8,
     "metadata": {},
     "output_type": "execute_result"
    }
   ],
   "source": [
    "df['cefr_numeric'].value_counts()"
   ]
  },
  {
   "cell_type": "code",
   "execution_count": 11,
   "id": "0b55aecf",
   "metadata": {},
   "outputs": [
    {
     "name": "stdout",
     "output_type": "stream",
     "text": [
      "The % of A1s is:  0.5303568811218079\n",
      "The % of A2s is:  0.26094522705494916\n",
      "The % of B1s is:  0.14264146083779755\n",
      "The % of B2s is:  0.051960122306955216\n",
      "The % of C1s is:  0.012452671292009127\n",
      "The % of C2s is:  0.0016436373864809977\n"
     ]
    }
   ],
   "source": [
    "print(\"The % of A1s is: \", df['cefr_numeric'].value_counts()[1] / len(df))\n",
    "print(\"The % of A2s is: \", df['cefr_numeric'].value_counts()[2] / len(df))\n",
    "print(\"The % of B1s is: \", df['cefr_numeric'].value_counts()[3] / len(df))\n",
    "print(\"The % of B2s is: \", df['cefr_numeric'].value_counts()[4] / len(df))\n",
    "print(\"The % of C1s is: \", df['cefr_numeric'].value_counts()[5] / len(df))\n",
    "print(\"The % of C2s is: \", df['cefr_numeric'].value_counts()[6] / len(df))"
   ]
  },
  {
   "cell_type": "code",
   "execution_count": 12,
   "id": "402df9a5",
   "metadata": {},
   "outputs": [
    {
     "name": "stdout",
     "output_type": "stream",
     "text": [
      "The % of As is:  0.7913021081767571\n",
      "The % of Bs is:  0.19460158314475276\n",
      "The % of Cs is:  0.014096308678490124\n"
     ]
    }
   ],
   "source": [
    "print(\"The % of As is: \", df['cefr_grouped'].value_counts()[1] / len(df))\n",
    "print(\"The % of Bs is: \", df['cefr_grouped'].value_counts()[2] / len(df))\n",
    "print(\"The % of Cs is: \", df['cefr_grouped'].value_counts()[3] / len(df))"
   ]
  },
  {
   "cell_type": "markdown",
   "id": "4d5df276",
   "metadata": {},
   "source": [
    "## Create Subset to Use"
   ]
  },
  {
   "cell_type": "markdown",
   "id": "30ad31d3",
   "metadata": {},
   "source": [
    "Because there is such a large imbalance in the data, we will create which will be used for training and testing."
   ]
  },
  {
   "cell_type": "code",
   "execution_count": 18,
   "id": "a04e2b5b",
   "metadata": {},
   "outputs": [
    {
     "data": {
      "text/plain": [
       "1    625985\n",
       "2    307996\n",
       "3    168361\n",
       "4     61329\n",
       "5     14698\n",
       "6      1940\n",
       "Name: cefr_numeric, dtype: int64"
      ]
     },
     "execution_count": 18,
     "metadata": {},
     "output_type": "execute_result"
    }
   ],
   "source": [
    "df['cefr_numeric'].value_counts()"
   ]
  },
  {
   "cell_type": "code",
   "execution_count": 33,
   "id": "41a4c102",
   "metadata": {},
   "outputs": [],
   "source": [
    "small = df.loc[(df['cefr_numeric'] == 6) | (df['cefr_numeric'] == 5) | (df['cefr_numeric'] == 4)].copy()"
   ]
  },
  {
   "cell_type": "code",
   "execution_count": 34,
   "id": "df576c95",
   "metadata": {},
   "outputs": [],
   "source": [
    "sub = pd.concat([df.loc[(df['cefr_numeric'] == 1)].sample(100000), small])"
   ]
  },
  {
   "cell_type": "code",
   "execution_count": 35,
   "id": "e161c947",
   "metadata": {},
   "outputs": [],
   "source": [
    "sub = pd.concat([df.loc[(df['cefr_numeric'] == 2)].sample(100000), sub])"
   ]
  },
  {
   "cell_type": "code",
   "execution_count": 36,
   "id": "6cd6cca8",
   "metadata": {},
   "outputs": [],
   "source": [
    "sub = pd.concat([df.loc[(df['cefr_numeric'] == 3)].sample(100000), sub])"
   ]
  },
  {
   "cell_type": "code",
   "execution_count": 37,
   "id": "0006b29a",
   "metadata": {},
   "outputs": [
    {
     "data": {
      "text/plain": [
       "3    100000\n",
       "2    100000\n",
       "1    100000\n",
       "4     61329\n",
       "5     14698\n",
       "6      1940\n",
       "Name: cefr_numeric, dtype: int64"
      ]
     },
     "execution_count": 37,
     "metadata": {},
     "output_type": "execute_result"
    }
   ],
   "source": [
    "sub['cefr_numeric'].value_counts()"
   ]
  },
  {
   "cell_type": "code",
   "execution_count": 39,
   "id": "1f0eba4a",
   "metadata": {},
   "outputs": [
    {
     "name": "stdout",
     "output_type": "stream",
     "text": [
      "The % of A1s is:  0.2645733622247445\n",
      "The % of A2s is:  0.2645733622247445\n",
      "The % of B1s is:  0.2645733622247445\n",
      "The % of B2s is:  0.16226019731881355\n",
      "The % of C1s is:  0.03888699277979295\n",
      "The % of C2s is:  0.005132723227160043\n",
      "There are 377967 rows\n"
     ]
    }
   ],
   "source": [
    "print(\"The % of A1s is: \", sub['cefr_numeric'].value_counts()[1] / len(sub))\n",
    "print(\"The % of A2s is: \", sub['cefr_numeric'].value_counts()[2] / len(sub))\n",
    "print(\"The % of B1s is: \", sub['cefr_numeric'].value_counts()[3] / len(sub))\n",
    "print(\"The % of B2s is: \", sub['cefr_numeric'].value_counts()[4] / len(sub))\n",
    "print(\"The % of C1s is: \", sub['cefr_numeric'].value_counts()[5] / len(sub))\n",
    "print(\"The % of C2s is: \", sub['cefr_numeric'].value_counts()[6] / len(sub))\n",
    "print(f\"There are {len(sub)} rows\")"
   ]
  },
  {
   "cell_type": "code",
   "execution_count": 40,
   "id": "ecfd9a3f",
   "metadata": {},
   "outputs": [],
   "source": [
    "sub.to_csv('efcamdat_sub.csv', index=False)"
   ]
  }
 ],
 "metadata": {
  "kernelspec": {
   "display_name": "Python 3 (ipykernel)",
   "language": "python",
   "name": "python3"
  },
  "language_info": {
   "codemirror_mode": {
    "name": "ipython",
    "version": 3
   },
   "file_extension": ".py",
   "mimetype": "text/x-python",
   "name": "python",
   "nbconvert_exporter": "python",
   "pygments_lexer": "ipython3",
   "version": "3.8.13"
  }
 },
 "nbformat": 4,
 "nbformat_minor": 5
}
